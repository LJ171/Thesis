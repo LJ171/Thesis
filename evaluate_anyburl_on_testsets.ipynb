{
 "cells": [
  {
   "cell_type": "code",
   "execution_count": null,
   "id": "35d28ff4-b402-4d03-a9bb-097684e11090",
   "metadata": {},
   "outputs": [],
   "source": [
    "import subprocess\n",
    "import os"
   ]
  },
  {
   "cell_type": "code",
   "execution_count": null,
   "id": "25fffca7-8b7d-4ac7-a3c6-4330db19ed40",
   "metadata": {},
   "outputs": [],
   "source": [
    "datasets = ['wnrr', 'codex-m', 'yago3-10', 'fb15k-237']\n",
    "testsets = ['test_at-least-one-similar-triple-in-training', 'test_no-similar-triples-in-training', 'test_25p-least-frequent-relations', 'test_25p-most-frequent-relations', 'test_multi-cardinality', 'test_one-to-one', 'test_anyburl_cluster', 'test_kge_cluster']"
   ]
  },
  {
   "cell_type": "code",
   "execution_count": null,
   "id": "548bf018-d627-4d9c-bf44-6a4340f4e3c2",
   "metadata": {},
   "outputs": [],
   "source": [
    "for dataset in datasets: \n",
    "    for testset in testsets:\n",
    "        print(f'{dataset} - {testset}')\n",
    "        with open(os.path.join('testsets', dataset, f'{testset}.del'), 'r') as f:\n",
    "            if(len(f.readlines()) > 0):\n",
    "                subprocess.run(f\"java -Xmx12G -cp AnyBURL-JUNO.jar de.unima.ki.anyburl.Apply config-apply-{testset}.properties\", shell=True, stdout=subprocess.PIPE, cwd=os.path.join(os.getcwd(), 'experiments', f'{dataset}_anyburl'))\n",
    "                r = subprocess.run(f\"java -Xmx12G -cp AnyBURL-JUNO.jar de.unima.ki.anyburl.Eval config-eval-{testset}.properties\", shell=True, stdout=subprocess.PIPE, cwd=os.path.join(os.getcwd(), 'experiments', f'{dataset}_anyburl'))\n",
    "                metrics = r.stdout.decode(\"utf-8\").split('\\n')[-2][:-1].split('   ')\n",
    "\n",
    "                print(f'Hits@1: {round(float(metrics[1]),3)}')\n",
    "                print(f'Hits@10: {round(float(metrics[2]),3)}')\n",
    "                print(f'MRR: {round(float(metrics[3]),3)}')\n",
    "            else:\n",
    "                print(f'Hits@1: ---')\n",
    "                print(f'Hits@10: ---')\n",
    "                print(f'MRR: ---')\n",
    "                \n",
    "        print()\n",
    "    print()    "
   ]
  },
  {
   "cell_type": "code",
   "execution_count": null,
   "id": "208ee7f0-6170-46cd-9edb-154bde19ea04",
   "metadata": {},
   "outputs": [],
   "source": []
  }
 ],
 "metadata": {
  "kernelspec": {
   "display_name": "Python 3 (ipykernel)",
   "language": "python",
   "name": "python3"
  },
  "language_info": {
   "codemirror_mode": {
    "name": "ipython",
    "version": 3
   },
   "file_extension": ".py",
   "mimetype": "text/x-python",
   "name": "python",
   "nbconvert_exporter": "python",
   "pygments_lexer": "ipython3",
   "version": "3.8.12"
  }
 },
 "nbformat": 4,
 "nbformat_minor": 5
}
