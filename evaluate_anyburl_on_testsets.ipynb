{
 "cells": [
  {
   "cell_type": "code",
   "execution_count": 1,
   "id": "35d28ff4-b402-4d03-a9bb-097684e11090",
   "metadata": {},
   "outputs": [],
   "source": [
    "import subprocess\n",
    "import os"
   ]
  },
  {
   "cell_type": "code",
   "execution_count": 2,
   "id": "25fffca7-8b7d-4ac7-a3c6-4330db19ed40",
   "metadata": {},
   "outputs": [],
   "source": [
    "datasets = ['wnrr', 'codex-m', 'fb15k-237', 'yago3-10']\n",
    "testsets = ['test_at-least-one-similar-triple-in-training', 'test_no-similar-triples-in-training', 'test_25p-least-frequent-relations', 'test_25p-most-frequent-relations', 'test_multi-cardinality', 'test_one-to-one']"
   ]
  },
  {
   "cell_type": "code",
   "execution_count": 4,
   "id": "54410041-3e55-4ddd-b3bf-78541373b2a4",
   "metadata": {},
   "outputs": [
    {
     "name": "stdout",
     "output_type": "stream",
     "text": [
      "wnrr - test_at-least-one-similar-triple-in-training\n",
      "Hits@1: ---\n",
      "Hits@10: ---\n",
      "MRR: ---\n",
      "\n",
      "wnrr - test_no-similar-triples-in-training\n",
      "Hits@1: 0.495\n",
      "Hits@10: 0.553\n",
      "MRR: 0.48\n",
      "\n",
      "wnrr - test_25p-least-frequent-relations\n",
      "Hits@1: 0.387\n",
      "Hits@10: 0.519\n",
      "MRR: 0.39\n",
      "\n",
      "wnrr - test_25p-most-frequent-relations\n",
      "Hits@1: 0.17\n",
      "Hits@10: 0.249\n",
      "MRR: 0.152\n",
      "\n",
      "wnrr - test_multi-cardinality\n",
      "Hits@1: 0.488\n",
      "Hits@10: 0.547\n",
      "MRR: 0.473\n",
      "\n",
      "wnrr - test_one-to-one\n",
      "Hits@1: 0.976\n",
      "Hits@10: 0.976\n",
      "MRR: 0.976\n",
      "\n",
      "\n",
      "codex-m - test_at-least-one-similar-triple-in-training\n"
     ]
    },
    {
     "name": "stderr",
     "output_type": "stream",
     "text": [
      "\n",
      "KeyboardInterrupt\n",
      "\n"
     ]
    }
   ],
   "source": [
    "for dataset in datasets:\n",
    "    for testset in testsets:\n",
    "        print(f'{dataset} - {testset}')\n",
    "        with open(os.path.join('experiments',f'{dataset}_anyburl', dataset, f'{testset}.del'), 'r') as f:\n",
    "            if(len(f.readlines()) > 0):\n",
    "                subprocess.run(f\"java -Xmx12G -cp AnyBURL-JUNO.jar de.unima.ki.anyburl.Apply config-apply-{testset}.properties\", shell=True, stdout=subprocess.PIPE, cwd=os.path.join(os.getcwd(), 'experiments', f'{dataset}_anyburl'))\n",
    "                r = subprocess.run(f\"java -Xmx12G -cp AnyBURL-JUNO.jar de.unima.ki.anyburl.Eval config-eval-{testset}.properties\", shell=True, stdout=subprocess.PIPE, cwd=os.path.join(os.getcwd(), 'experiments', f'{dataset}_anyburl'))\n",
    "                metrics = r.stdout.decode(\"utf-8\").split('\\n')[-2][:-1].split('   ')\n",
    "\n",
    "                print(f'Hits@1: {round(float(metrics[1]),3)}')\n",
    "                print(f'Hits@10: {round(float(metrics[2]),3)}')\n",
    "                print(f'MRR: {round(float(metrics[3]),3)}')\n",
    "            else:\n",
    "                print(f'Hits@1: ---')\n",
    "                print(f'Hits@10: ---')\n",
    "                print(f'MRR: ---')\n",
    "\n",
    "        print()\n",
    "    print()    "
   ]
  },
  {
   "cell_type": "code",
   "execution_count": null,
   "id": "c1889cd4-17c9-4135-94b1-d43f1234962e",
   "metadata": {},
   "outputs": [],
   "source": []
  }
 ],
 "metadata": {
  "kernelspec": {
   "display_name": "Python 3 (ipykernel)",
   "language": "python",
   "name": "python3"
  },
  "language_info": {
   "codemirror_mode": {
    "name": "ipython",
    "version": 3
   },
   "file_extension": ".py",
   "mimetype": "text/x-python",
   "name": "python",
   "nbconvert_exporter": "python",
   "pygments_lexer": "ipython3",
   "version": "3.8.12"
  }
 },
 "nbformat": 4,
 "nbformat_minor": 5
}
