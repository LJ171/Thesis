{
 "cells": [
  {
   "cell_type": "markdown",
   "id": "8931c6f9-ae8f-47f9-aacb-dbfb951ab7be",
   "metadata": {},
   "source": [
    "# Imports"
   ]
  },
  {
   "cell_type": "code",
   "execution_count": 21,
   "id": "dd567541-16c1-45d0-93e9-7830f30cd2ff",
   "metadata": {},
   "outputs": [],
   "source": [
    "import numpy as np\n",
    "import os\n",
    "import pandas as pd"
   ]
  },
  {
   "cell_type": "markdown",
   "id": "6e3268b2-817e-4d43-9f53-f5a1f634552b",
   "metadata": {},
   "source": [
    "# Entities/ Relations <-> Ids"
   ]
  },
  {
   "cell_type": "code",
   "execution_count": 22,
   "id": "e75faea8-9159-41bf-aa8c-c474eb0d6df4",
   "metadata": {},
   "outputs": [],
   "source": [
    "class ERI:\n",
    "\n",
    "    def __init__(self, dataset_path):\n",
    "        self.dataset_path = dataset_path\n",
    "        self.entities = pd.read_csv(os.path.join(dataset_path, 'entity_ids.del'), sep='\\t', names=['id', 'entity'])\n",
    "        self.relations = pd.read_csv(os.path.join(dataset_path, 'relation_ids.del'), sep='\\t', names=['id', 'relation'])\n",
    "    \n",
    "    def _get_multiple(self, getter, inputs):        \n",
    "        results = []\n",
    "        for input in inputs:\n",
    "            results.append(getter(input))\n",
    "        return results\n",
    "    \n",
    "    def get_entity_by_id(self, id):\n",
    "        return self.entities.loc[self.entities['id'] == id].iat[0,1]\n",
    "    \n",
    "    def get_entities_by_id(self, ids):\n",
    "        return self._get_multiple(self.get_entity_by_id, ids)\n",
    "    \n",
    "    def get_entity_id(self, entity):\n",
    "        if entity.isdigit():\n",
    "            entity = int(entity)\n",
    "        return self.entities.loc[self.entities['entity'] == entity].iat[0,0]\n",
    "    \n",
    "    def get_entity_ids(self, entities):\n",
    "        return self._get_multiple(self.get_entity_id, entities)\n",
    "    \n",
    "    def get_relation_by_id(self, id):\n",
    "        return self.relations.loc[self.relations['id'] == id].iat[0,1]\n",
    "    \n",
    "    def get_relations_by_id(self, ids):\n",
    "        return self._get_multiple(self.get_relation_by_id, ids)\n",
    "    \n",
    "    def get_relation_id(self, relation):\n",
    "        if relation.isdigit():\n",
    "            relation = int(relation)\n",
    "        return self.relations.loc[self.relations['relation'] == relation].iat[0,0]\n",
    "    \n",
    "    def get_relation_ids(self, relations):\n",
    "        return self._get_multiple(self.get_relation_id, relations)\n",
    "    \n",
    "    def get_all_entities(self):\n",
    "        return self.entities['entity'].unique()\n",
    "    \n",
    "    def get_all_relations(self):\n",
    "        return self.relations['relation'].unique()\n",
    "    \n",
    "    def get_all_entity_ids(self):\n",
    "        return self.entities['id'].unique()\n",
    "    \n",
    "    def get_all_relation_ids(self):\n",
    "        return self.relations['id'].unique()"
   ]
  },
  {
   "cell_type": "markdown",
   "id": "2d25a2ad-1efe-4bc6-8c4e-9e843a287e03",
   "metadata": {},
   "source": [
    "# Relation Frequency in Training Data"
   ]
  },
  {
   "cell_type": "code",
   "execution_count": 23,
   "id": "8d923f37-ccd5-45b1-9d61-8e398e059ce7",
   "metadata": {},
   "outputs": [],
   "source": [
    "def get_relation_frequency_in_training_data(dataset):\n",
    "    path_to_dataset = os.path.join('experiments', '0_datasets', dataset)\n",
    "    path_to_training = os.path.join(path_to_dataset, 'train.txt')\n",
    "\n",
    "    training_df = pd.read_csv(path_to_training, sep='\\t', header=None)\n",
    "    training_df.columns = ['h', 'r', 't']\n",
    "\n",
    "    relations = training_df['r'].unique()\n",
    "    relation_counts = training_df['r'].value_counts()\n",
    "\n",
    "    df = pd.DataFrame(columns=['r_id','freq'])\n",
    "    eri = ERI(path_to_dataset)\n",
    "    for relation in relations:\n",
    "        df.loc[df.shape[0]] = [eri.get_relation_id(relation), relation_counts[relation]]\n",
    "    \n",
    "    df['norm_freq'] = (df['freq'] - df['freq'].min())/(df['freq'].max()-df['freq'].min())\n",
    "    \n",
    "    return df.reset_index()"
   ]
  },
  {
   "cell_type": "markdown",
   "id": "419d40a9-a562-4bef-a9fe-a50ea747e672",
   "metadata": {},
   "source": [
    "# Relation Class"
   ]
  },
  {
   "cell_type": "code",
   "execution_count": 24,
   "id": "0d2bfe5b-9802-41d9-8557-932513f5f7bd",
   "metadata": {},
   "outputs": [],
   "source": [
    "def get_relation_classes(dataset_name, threshold=0.85):\n",
    "    path_to_dataset = os.path.join('experiments', '0_datasets', dataset_name)\n",
    "    path_to_training = os.path.join(path_to_dataset, 'train.txt')\n",
    "    path_to_valid = os.path.join(path_to_dataset, 'valid.txt')\n",
    "    path_to_test = os.path.join(path_to_dataset, 'test.txt')\n",
    "\n",
    "    training_df = pd.read_csv(path_to_training, sep='\\t', header=None)\n",
    "    valid_df = pd.read_csv(path_to_valid, sep='\\t', header=None)\n",
    "    test_df = pd.read_csv(path_to_test, sep='\\t', header=None)\n",
    "\n",
    "    eri = ERI(path_to_dataset)\n",
    "    relations = eri.get_all_relations()\n",
    "\n",
    "    data = pd.concat([training_df, valid_df, test_df])\n",
    "    data.columns= ['h','r','t']\n",
    "\n",
    "    df=pd.DataFrame(columns=['r_id', 'relationClass'])\n",
    "\n",
    "    for relation in relations:\n",
    "        data_for_h_r = data[data['r']==relation].groupby(['h', 'r']).agg(set)\n",
    "        data_for_t_r = data[data['r']==relation].groupby(['t', 'r']).agg(set)\n",
    "\n",
    "        OneTo = 0\n",
    "        Nto = 0\n",
    "        for i in range(data_for_t_r.size):\n",
    "            h_count  = len(data_for_t_r['h'].iloc[i])    \n",
    "            if h_count > 1:\n",
    "                Nto += 1\n",
    "            elif h_count == 1:\n",
    "                OneTo += 1 \n",
    "\n",
    "        toOne = 0\n",
    "        toM = 0\n",
    "        for i in range(data_for_h_r.size):\n",
    "            t_count  = len(data_for_h_r['t'].iloc[i])\n",
    "            if t_count > 1:\n",
    "                toM += 1\n",
    "            elif t_count == 1:\n",
    "                toOne += 1          \n",
    "\n",
    "        xTo = ''\n",
    "        if OneTo/(OneTo+Nto) > threshold:\n",
    "            xTo = '1'\n",
    "        else:\n",
    "            xTo = 'N'\n",
    "\n",
    "        toX = ''\n",
    "        if toOne/(toOne+toM) > threshold:\n",
    "            toX = '1'\n",
    "        else:\n",
    "            toX = 'M'\n",
    "\n",
    "        df.loc[df.shape[0]] = [eri.get_relation_id(relation), f'{xTo}to{toX}']\n",
    "    \n",
    "    return df "
   ]
  },
  {
   "cell_type": "markdown",
   "id": "cb130472-803a-4f0c-b809-650e4eb9fecd",
   "metadata": {},
   "source": [
    "# Formatted Data Name"
   ]
  },
  {
   "cell_type": "code",
   "execution_count": 25,
   "id": "d3d005ba-fc3d-40ce-b46c-71db8ac52f06",
   "metadata": {},
   "outputs": [],
   "source": [
    "def get_formatted_data_name(dataset_name, symbolic_name, subsymbolic_name):\n",
    "    return f'{dataset_name}_{symbolic_name}_{subsymbolic_name}.txt'"
   ]
  },
  {
   "cell_type": "code",
   "execution_count": null,
   "id": "8fda09cc-a736-483d-9724-8b875259ec2c",
   "metadata": {},
   "outputs": [],
   "source": []
  }
 ],
 "metadata": {
  "kernelspec": {
   "display_name": "Python 3 (ipykernel)",
   "language": "python",
   "name": "python3"
  },
  "language_info": {
   "codemirror_mode": {
    "name": "ipython",
    "version": 3
   },
   "file_extension": ".py",
   "mimetype": "text/x-python",
   "name": "python",
   "nbconvert_exporter": "python",
   "pygments_lexer": "ipython3",
   "version": "3.8.12"
  }
 },
 "nbformat": 4,
 "nbformat_minor": 5
}
