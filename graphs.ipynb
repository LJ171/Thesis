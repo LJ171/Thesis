{
 "cells": [
  {
   "cell_type": "code",
   "execution_count": 2,
   "id": "7452a347-cf4a-42ba-9396-26bb6a9a410b",
   "metadata": {},
   "outputs": [],
   "source": [
    "%run utils.ipynb\n",
    "import matplotlib.pyplot as plt\n",
    "import matplotlib.colors\n",
    "import numpy as np\n",
    "import os\n",
    "import pandas as pd"
   ]
  },
  {
   "cell_type": "code",
   "execution_count": 3,
   "id": "e04ee062-6074-47d2-bbb4-4e8d8c90b01c",
   "metadata": {},
   "outputs": [],
   "source": [
    "figsize = (20,15)\n",
    "dpi = 100"
   ]
  },
  {
   "cell_type": "markdown",
   "id": "001a32ad-fd50-488a-a42c-ae4dca96518c",
   "metadata": {},
   "source": [
    "# All Graphs"
   ]
  },
  {
   "cell_type": "code",
   "execution_count": 4,
   "id": "17531dc5-e12d-480e-8b2f-ab6082deba04",
   "metadata": {},
   "outputs": [],
   "source": [
    "def show_all_graphs(df, dataset_name, bp_threshold, relation_class_threshold):\n",
    "    show_ranking_dist(df)\n",
    "    show_ranking_dist_by_direction(df)\n",
    "    show_performance_different_thresholds(df)\n",
    "    show_relation_frequency(dataset_name)\n",
    "    show_better_predicted_per_relation(df, bp_threshold)\n",
    "    show_better_predicted_per_relation_with_frequency(df, dataset_name, bp_threshold)\n",
    "    show_better_predicted_per_relation_with_relation_classes(df, dataset_name, bp_threshold, relation_class_threshold)"
   ]
  },
  {
   "cell_type": "markdown",
   "id": "6a93f600-2a2e-4303-b8d7-c7a422f4781d",
   "metadata": {
    "tags": []
   },
   "source": [
    "# Helper Functions"
   ]
  },
  {
   "cell_type": "code",
   "execution_count": 5,
   "id": "cdb6ca37-85e3-4b76-862e-505f70575ffe",
   "metadata": {},
   "outputs": [],
   "source": [
    "def plt_show():\n",
    "    pdf.savefig()\n",
    "    plt.show()\n",
    "    \n",
    "def get_better_predicted_by(df, threshold):\n",
    "    df['rank_difference'] = df['rank_filtered_anyburl'] - df['rank_filtered_kge']\n",
    "    df[f'better_predicted_by_anyburl_t{threshold}'] = df.apply(lambda x: 1 if x['rank_difference'] < (-1 * threshold) else -1 if x['rank_difference'] > threshold else 0, axis=1)\n",
    "    \n",
    "    return df.drop(columns=['rank_difference'])\n",
    "\n",
    "def group_df_by_r_id(df):\n",
    "    return df[['r_id', f'better_predicted_by_anyburl_t{bp_threshold}']].groupby('r_id').mean()"
   ]
  },
  {
   "cell_type": "markdown",
   "id": "e51af51b-566f-4d00-8507-a8b14bf7f444",
   "metadata": {},
   "source": [
    "# Boxplots of ranking distribution"
   ]
  },
  {
   "cell_type": "code",
   "execution_count": 6,
   "id": "002af093-68ae-48f4-a28e-ec6c91985f51",
   "metadata": {},
   "outputs": [],
   "source": [
    "def show_ranking_dist(df):\n",
    "    \"\"\"\n",
    "    expects a df with 'rank_filtered_anyburl' and 'rank_filtered_kge'\n",
    "    \"\"\"\n",
    "    plt.figure(figsize=figsize, dpi=dpi)\n",
    "    plt.boxplot(df[['rank_filtered_anyburl', 'rank_filtered_kge']], labels=[symbolic_name, subsymbolic_name])\n",
    "    \n",
    "    plt.ylabel('Rank (filtered)')\n",
    "    plt.title(f'({dataset_name}) Comparison of Rankings per Model')\n",
    "    plt_show()"
   ]
  },
  {
   "cell_type": "markdown",
   "id": "40611870-31c6-4c5f-bc0e-b8568be211a7",
   "metadata": {},
   "source": [
    "# Boxplots of ranking distribution by direction"
   ]
  },
  {
   "cell_type": "code",
   "execution_count": 7,
   "id": "dec94d5b-bb6e-4bd8-9a55-e85b24b778aa",
   "metadata": {},
   "outputs": [],
   "source": [
    "def show_ranking_dist_by_direction(df):\n",
    "    \"\"\"\n",
    "    expects a df with 'rank_filtered_anyburl', 'rank_filtered_kge' and 'predicted_head'\n",
    "    \"\"\"\n",
    "    heads = df[df['predicted_head']==True][['h_id', 'r_id', 't_id', 'rank_filtered_anyburl', 'rank_filtered_kge']]\n",
    "    tails = df[df['predicted_head']==False][['h_id', 'r_id', 't_id','rank_filtered_anyburl', 'rank_filtered_kge']]\n",
    "    \n",
    "    f, (ax1, ax2) = plt.subplots(1, 2, figsize=figsize, dpi=dpi)    \n",
    "    ax1.boxplot(heads[['rank_filtered_anyburl', 'rank_filtered_kge']], labels=[symbolic_name, subsymbolic_name])\n",
    "    ax2.boxplot(tails[['rank_filtered_anyburl', 'rank_filtered_kge']], labels=[symbolic_name, subsymbolic_name])\n",
    "    \n",
    "    f.suptitle(f'({dataset_name}) Comparison of Rankings per Model and Prediction Direction')\n",
    "    ax1.set_title('Predicted Heads')\n",
    "    ax2.set_title('Predicted Tails')\n",
    "    ax1.set_ylabel('rank (filtered)')\n",
    "    ax2.set_ylabel('rank (filtered)')\n",
    "\n",
    "    plt_show()"
   ]
  },
  {
   "cell_type": "markdown",
   "id": "5213d752-10b1-4629-9540-7da1c739b300",
   "metadata": {},
   "source": [
    "# Performance with different comparison Thresholds"
   ]
  },
  {
   "cell_type": "code",
   "execution_count": 8,
   "id": "4281bdf2-6f88-4fcd-b21a-aaaacc485a30",
   "metadata": {},
   "outputs": [],
   "source": [
    "def show_performance_different_thresholds(df, rank_thresholds = [0,5,10,25,50,100]):\n",
    "    \"\"\"\n",
    "    expects a df with 'rank_filtered_anyburl' and 'rank_filtered_kge'\n",
    "    \"\"\"    \n",
    "    for t in rank_thresholds:\n",
    "        df = get_better_predicted_by(df, t)\n",
    "    \n",
    "    X_axis = np.arange(6)\n",
    "    Y_anyburl = [(df[f'better_predicted_by_anyburl_t{t}'] == 1).sum() for t in rank_thresholds]\n",
    "    Y_kge = [(df[f'better_predicted_by_anyburl_t{t}'] == -1).sum() for t in rank_thresholds]\n",
    "    Y_equal = [(df[f'better_predicted_by_anyburl_t{t}'] == 0).sum() for t in rank_thresholds]\n",
    "\n",
    "    plt.figure(figsize=figsize, dpi=dpi)\n",
    "    plt.bar(X_axis - 0.2, Y_anyburl, 0.2, label = symbolic_name)\n",
    "    plt.bar(X_axis, Y_kge, 0.2, label = subsymbolic_name)\n",
    "    plt.bar(X_axis + 0.2, Y_equal, 0.2, label = 'Equal')\n",
    "    \n",
    "    plt.xticks(X_axis, rank_thresholds)\n",
    "    plt.xlabel(\"Threshold\")\n",
    "    plt.ylabel(\"Amount of better Predictions\")\n",
    "    plt.title(f'({dataset_name}) Comparison of Rankings for different Thresholds')\n",
    "    plt.legend()\n",
    "    \n",
    "    plt_show()"
   ]
  },
  {
   "cell_type": "markdown",
   "id": "cab7a604-afef-428b-94bb-1e5f320a36b9",
   "metadata": {},
   "source": [
    "# Relation Frequency"
   ]
  },
  {
   "cell_type": "code",
   "execution_count": 9,
   "id": "9a703605-3d28-44a9-a587-d646fcbb7aa6",
   "metadata": {},
   "outputs": [],
   "source": [
    "def show_relation_frequency(dataset_name):\n",
    "    r_freq = get_relation_frequency_in_training_data(dataset_name)\n",
    "    \n",
    "    plt.figure(figsize=figsize, dpi=dpi)\n",
    "    plt.bar(r_freq['r_id'], r_freq['freq'])\n",
    "    \n",
    "    plt.xticks(r_freq['r_id'])\n",
    "    plt.title(f'({dataset_name}) Relation Frequency in Trainings Data')\n",
    "    \n",
    "    plt_show()"
   ]
  },
  {
   "cell_type": "markdown",
   "id": "33a589c1-3fbc-4910-8ae7-ebb98ee03185",
   "metadata": {},
   "source": [
    "# Better Predicted by AnyBURL per Relation"
   ]
  },
  {
   "cell_type": "code",
   "execution_count": 10,
   "id": "82abd1f3-0e0a-4b0a-84cb-12201b7dba6a",
   "metadata": {},
   "outputs": [],
   "source": [
    "def show_better_predicted_per_relation(df, bp_threshold):\n",
    "    \"\"\"\n",
    "    expects a df with 'r_id', 'rank_filtered_anyburl' and 'rank_filtered_kge'\n",
    "    \"\"\"\n",
    "    df = get_better_predicted_by(df, bp_threshold)\n",
    "    \n",
    "    df_by_r = group_df_by_r_id(df).sort_values(f'better_predicted_by_anyburl_t{bp_threshold}')\n",
    "    df_by_r.reset_index(inplace=True)\n",
    "    \n",
    "    plt.figure(figsize=figsize, dpi=dpi)\n",
    "    plt.barh(range(len(df_by_r['r_id'])),  df_by_r[f'better_predicted_by_anyburl_t{bp_threshold}'])\n",
    "    \n",
    "    plt.yticks(range(len(df_by_r['r_id'])), df_by_r['r_id'])\n",
    "    plt.xlabel('Better predicted by AnyBURL')\n",
    "    plt.ylabel('Relation Id')\n",
    "    plt.title(f'({dataset_name}) Better Predicted by AnyBURL per Relation')\n",
    "    \n",
    "    plt_show()"
   ]
  },
  {
   "cell_type": "markdown",
   "id": "710de925-d63e-4d0f-a08b-6970eb84bc56",
   "metadata": {},
   "source": [
    "# Better Predicted by AnyBURL per Relation with Frequency"
   ]
  },
  {
   "cell_type": "code",
   "execution_count": 11,
   "id": "fe9a75e0-207f-4a2a-9b8c-c2551a54ebb8",
   "metadata": {},
   "outputs": [],
   "source": [
    "def show_better_predicted_per_relation_with_frequency(df, dataset_name, bp_threshold):\n",
    "    \"\"\"\n",
    "    expects a df with 'r_id', 'rank_filtered_anyburl' and 'rank_filtered_kge'\n",
    "    \"\"\"\n",
    "    df = get_better_predicted_by(df, bp_threshold)\n",
    "    r_freq = get_relation_frequency_in_training_data(dataset_name)\n",
    "    \n",
    "    df_by_r = group_df_by_r_id(df)\n",
    "    df_by_r_w_freq = r_freq.join(df_by_r, on='r_id').sort_values('freq')\n",
    "    df_by_r_w_freq.reset_index(inplace=True)\n",
    "    df_by_r_w_freq = df_by_r_w_freq.dropna()\n",
    "    df_by_r_w_freq = df_by_r_w_freq.sort_values(f'better_predicted_by_anyburl_t{bp_threshold}')\n",
    "    \n",
    "    cmap = plt.cm.viridis\n",
    "    norm = matplotlib.colors.Normalize(vmin=df_by_r_w_freq['norm_freq'].min(), vmax=df_by_r_w_freq['norm_freq'].nlargest(30).values[1])\n",
    "\n",
    "    fig, ax = plt.subplots(figsize=figsize, dpi=dpi)\n",
    "    ax.bar(range(len(df_by_r_w_freq['r_id'])), df_by_r_w_freq[f'better_predicted_by_anyburl_t{bp_threshold}'], color=cmap(norm(df_by_r_w_freq['norm_freq'].values)))\n",
    "    \n",
    "    ax.set_xticks(range(len(df_by_r_w_freq['r_id'])), df_by_r_w_freq['r_id'])\n",
    "\n",
    "    sm = plt.cm.ScalarMappable(cmap=cmap, norm=norm)\n",
    "    clb = fig.colorbar(sm)\n",
    "    clb.set_label('normalized relation frequency')\n",
    "\n",
    "    plt.title(f'({dataset_name}) Better predicted by AnyBURL per Relation with Relation Frequency in Trainings Data')\n",
    "    plt.xlabel('Relation Id')\n",
    "    plt.ylabel('Better predicted by AnyBURL')\n",
    "\n",
    "    plt_show()"
   ]
  },
  {
   "cell_type": "markdown",
   "id": "70ac345e-3e2b-41b6-88c0-ad38dadb690a",
   "metadata": {},
   "source": [
    "# Better Predicted by AnyBURL per Relation with Relation Class"
   ]
  },
  {
   "cell_type": "code",
   "execution_count": 12,
   "id": "b6b45c11-8ea4-454e-a4bc-ffbfb48f740f",
   "metadata": {},
   "outputs": [],
   "source": [
    "def show_better_predicted_per_relation_with_relation_classes(df, dataset_name, bp_threshold, relation_class_threshold):\n",
    "    \"\"\"\n",
    "    expects a df with 'r_id', 'rank_filtered_anyburl' and 'rank_filtered_kge'\n",
    "    \"\"\"\n",
    "    df = get_better_predicted_by(df, bp_threshold)\n",
    "    df_by_r = group_df_by_r_id(df).sort_values(f'better_predicted_by_anyburl_t{bp_threshold}')\n",
    "    relation_classes = get_relation_classes(dataset_name, relation_class_threshold)\n",
    "    df_by_r_w_classes = df_by_r.join(relation_classes)\n",
    "\n",
    "    colors = {'1to1': 'red', '1toM': 'green', 'Nto1': 'blue', 'NtoM': 'orange'}\n",
    "    c = df_by_r_w_classes['relationClass'].apply(lambda x: colors[x])\n",
    "\n",
    "    plt.figure(figsize=figsize, dpi=dpi)\n",
    "    plt.barh(range(len(df_by_r_w_classes['r_id'])),  df_by_r_w_classes[f'better_predicted_by_anyburl_t{bp_threshold}'], color=c)\n",
    "\n",
    "    for i, j in colors.items(): \n",
    "        plt.barh(range(len(df_by_r_w_classes['r_id'])), df_by_r_w_classes[f'better_predicted_by_anyburl_t{bp_threshold}'],height=0,color=j,label=i)   \n",
    "    \n",
    "    plt.yticks(range(len(df_by_r_w_classes['r_id'])), df_by_r_w_classes['r_id'])    \n",
    "    plt.title(f'({dataset_name}) Better predicted by AnyBURL per Relation with Relation Class')\n",
    "    plt.xlabel('Relation Id')\n",
    "    plt.ylabel('Better predicted by AnyBURL')\n",
    "\n",
    "    plt.legend()\n",
    "    plt_show()"
   ]
  },
  {
   "cell_type": "code",
   "execution_count": null,
   "id": "66d512f1-a80c-4a13-bec4-0efccfb56b37",
   "metadata": {},
   "outputs": [],
   "source": []
  }
 ],
 "metadata": {
  "kernelspec": {
   "display_name": "Python 3 (ipykernel)",
   "language": "python",
   "name": "python3"
  },
  "language_info": {
   "codemirror_mode": {
    "name": "ipython",
    "version": 3
   },
   "file_extension": ".py",
   "mimetype": "text/x-python",
   "name": "python",
   "nbconvert_exporter": "python",
   "pygments_lexer": "ipython3",
   "version": "3.8.12"
  }
 },
 "nbformat": 4,
 "nbformat_minor": 5
}
