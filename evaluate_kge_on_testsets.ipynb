{
 "cells": [
  {
   "cell_type": "code",
   "execution_count": null,
   "id": "8a619bae-1d27-4f81-b8fc-a758aba5860d",
   "metadata": {},
   "outputs": [],
   "source": [
    "import subprocess\n",
    "import os\n",
    "import math"
   ]
  },
  {
   "cell_type": "code",
   "execution_count": null,
   "id": "4c4f8121-9bba-4fca-a044-4469f0aef7ae",
   "metadata": {},
   "outputs": [],
   "source": [
    "datasets = ['wnrr', 'codex-m', 'fb15k-237', 'yago3-10']\n",
    "testsets = ['test_at-least-one-similar-triple-in-training', 'test_no-similar-triples-in-training', 'test_25p-least-frequent-relations', 'test_25p-most-frequent-relations', 'test_multi-cardinality', 'test_one-to-one', 'test_anyburl_cluster', 'test_kge_cluster']\n",
    "models = ['complex','conve','rescal']"
   ]
  },
  {
   "cell_type": "code",
   "execution_count": null,
   "id": "eed25bf5-90d2-4314-a828-a9c211b0d876",
   "metadata": {},
   "outputs": [],
   "source": [
    "dataset = datasets[0]\n",
    "testset = testsets[0]\n",
    "model = models[0]"
   ]
  },
  {
   "cell_type": "code",
   "execution_count": null,
   "id": "3f1fcd4b-a5f0-462a-9d91-af2433ffd5e8",
   "metadata": {},
   "outputs": [],
   "source": [
    "for dataset in datasets:\n",
    "    for testset in testsets:\n",
    "        for model in models:\n",
    "            if(os.path.exists(os.path.join('experiments', f'{dataset}_{model}_1'))):\n",
    "                print(f'{dataset} - {testset} - {model}')\n",
    "                with open(os.path.join('testsets', dataset, f'{testset}.del'), 'r') as f:\n",
    "                    if(len(f.readlines()) > 0):\n",
    "                        r = subprocess.run(f\"kge test {dataset}_{model}_1/init_config.yaml --dataset.files.test.filename {testset}.del\", shell=True, stdout=subprocess.PIPE, cwd=os.path.join(os.getcwd(), 'experiments'))\n",
    "                        result = r.stdout.decode('utf-8').split('\\r\\n')\n",
    "                        result.reverse()\n",
    "\n",
    "                        hits1 = round(float([s for s in result if 'hits_at_1_filtered:' in s][0].split('hits_at_1_filtered: ')[-1]),3)\n",
    "                        print(f'hits@1: {hits1}')\n",
    "                        hits10 = round(float([s for s in result if 'hits_at_10_filtered:' in s][0].split('hits_at_10_filtered: ')[-1]),3)\n",
    "                        print(f'hits@10: {hits10}')\n",
    "                        mrr = round(float([s for s in result if 'mean_reciprocal_rank_filtered:' in s][0].split('mean_reciprocal_rank_filtered: ')[-1]),3)\n",
    "                        print(f'mrr: {mrr}')\n",
    "                    else:\n",
    "                        print(f'hits@1: ---')\n",
    "                        print(f'hits@10: ---')\n",
    "                        print(f'mrr: ---')\n",
    "                print()\n",
    "        print()\n",
    "    print()\n"
   ]
  },
  {
   "cell_type": "code",
   "execution_count": null,
   "id": "ea051fc9-9b1a-4fb2-88e3-4dd0edd59728",
   "metadata": {},
   "outputs": [],
   "source": [
    "result"
   ]
  },
  {
   "cell_type": "code",
   "execution_count": null,
   "id": "ef271d51-a820-4af8-aafc-ccab627f79cb",
   "metadata": {},
   "outputs": [],
   "source": []
  }
 ],
 "metadata": {
  "kernelspec": {
   "display_name": "Python 3 (ipykernel)",
   "language": "python",
   "name": "python3"
  },
  "language_info": {
   "codemirror_mode": {
    "name": "ipython",
    "version": 3
   },
   "file_extension": ".py",
   "mimetype": "text/x-python",
   "name": "python",
   "nbconvert_exporter": "python",
   "pygments_lexer": "ipython3",
   "version": "3.8.12"
  }
 },
 "nbformat": 4,
 "nbformat_minor": 5
}
