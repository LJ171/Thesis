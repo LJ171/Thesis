{
 "cells": [
  {
   "cell_type": "markdown",
   "id": "f40ff514-d5eb-4176-a8bb-83df6d27216a",
   "metadata": {
    "tags": []
   },
   "source": [
    "# Imports"
   ]
  },
  {
   "cell_type": "code",
   "execution_count": 26,
   "id": "fcd04990-6ba9-49b0-b05c-5a39dc0e7171",
   "metadata": {},
   "outputs": [],
   "source": [
    "%run utils.ipynb\n",
    "\n",
    "import ast\n",
    "import numpy as np\n",
    "import os\n",
    "import pandas as pd\n",
    "import re"
   ]
  },
  {
   "cell_type": "markdown",
   "id": "d403b6fe-2e77-4148-8425-1560394c9ebd",
   "metadata": {
    "tags": []
   },
   "source": [
    "# Load Data"
   ]
  },
  {
   "cell_type": "markdown",
   "id": "a8c6eef2-f1d5-4a70-a58b-742fc60b8154",
   "metadata": {},
   "source": [
    "## AnyBURL"
   ]
  },
  {
   "cell_type": "code",
   "execution_count": 27,
   "id": "3d98b022-f874-4b96-a967-effc48e96aff",
   "metadata": {},
   "outputs": [],
   "source": [
    "def format_anyburl(path, eri):\n",
    "    columns = np.array(['h', 'h_id', 'r', 'r_id', 't', 't_id', 'predicted_head', 'rank_filtered'])\n",
    "    index = list(columns[[1,3,5,6]])\n",
    "    anyburl = pd.DataFrame(columns=columns)\n",
    "\n",
    "    with open(path) as file:\n",
    "        for line in file:\n",
    "            if line.startswith('Heads:'):\n",
    "                line = line[7:]\n",
    "                candidates = line.split('\\t')\n",
    "                del candidates[1::2]\n",
    "                rank = candidates.index(head) + 1 if head in candidates else None\n",
    "                new_row = pd.DataFrame([[head, eri.get_entity_id(head), relation, eri.get_relation_id(relation), tail, eri.get_entity_id(tail), True, rank]], columns=columns)\n",
    "                anyburl = pd.concat([anyburl, new_row])    \n",
    "            elif line.startswith('Tails:'):\n",
    "                line = line[7:]\n",
    "                candidates = line.split('\\t')\n",
    "                del candidates[1::2]\n",
    "                rank = candidates.index(tail) + 1 if tail in candidates else None\n",
    "                new_row = pd.DataFrame([[head, eri.get_entity_id(head), relation, eri.get_relation_id(relation), tail, eri.get_entity_id(tail), False, rank]], columns=columns)\n",
    "                anyburl = pd.concat([anyburl, new_row])  \n",
    "            else:\n",
    "                head, relation, tail = line.split()        \n",
    "\n",
    "    anyburl.set_index(index, inplace=True)\n",
    "    return anyburl"
   ]
  },
  {
   "cell_type": "markdown",
   "id": "e9192b6c-631d-4a18-aadc-1fecfa8812b3",
   "metadata": {
    "tags": []
   },
   "source": [
    "## LibKGE"
   ]
  },
  {
   "cell_type": "code",
   "execution_count": 28,
   "id": "5a0d2022-343e-4a9c-bfaa-818fec1187a1",
   "metadata": {},
   "outputs": [],
   "source": [
    "def add_quotes_to_lists(match):\n",
    "    return re.sub(r'([\\s\\[])([^\\],]+)', r'\\1\"\\2\"', match.group(0))"
   ]
  },
  {
   "cell_type": "code",
   "execution_count": 29,
   "id": "75434838-c659-4b4a-9358-ee6390496399",
   "metadata": {},
   "outputs": [],
   "source": [
    "def format_libkge(paths, eri):\n",
    "    columns = np.array(['h', 'h_id', 'r', 'r_id', 't', 't_id', 'predicted_head', 'rank_filtered'])\n",
    "    index = list(columns[[1,3,5,6]])\n",
    "    \n",
    "    filler = [None]\n",
    "    for i, path in enumerate(paths):\n",
    "        columns = np.append(columns, f'rank_filtered_{i}')\n",
    "        filler.append(None)\n",
    "        \n",
    "    kge = pd.DataFrame(columns=columns)\n",
    "    \n",
    "    for i, path in enumerate(paths):\n",
    "        print(f'{path}...')\n",
    "        column_name = f'rank_filtered_{i}'\n",
    "        with open(path) as file:\n",
    "            for line in file:\n",
    "                line = re.sub(r':\\s?(?![{\\[\\s])([^,}]+)', r': \"\\1\"', line) # Add quotes to dict values\n",
    "                line = re.sub(r'(\\w+):', r'\"\\1\":', line) # Add quotes to dict keys\n",
    "                line = re.sub(r'\\[[^\\]]+', add_quotes_to_lists, line) # Add quotes to list items\n",
    "                try:\n",
    "                    l = ast.literal_eval(line)\n",
    "\n",
    "                    if set(['s','p','o']).issubset(set(l.keys())):\n",
    "                        s_id = int(l['s'])\n",
    "                        o_id = int(l['o'])\n",
    "                        p_id = int(l['p'])\n",
    "                        s = eri.get_entity_by_id(s_id)\n",
    "                        o = eri.get_entity_by_id(o_id)\n",
    "                        p = eri.get_relation_by_id(p_id)\n",
    "                        predicted_head = l['task'] == 'po'\n",
    "                        rank = int(l['rank_filtered'])\n",
    "\n",
    "                        existing_row = kge[(kge['h_id'] == s_id) & (kge['r_id']==p_id) & (kge['t_id']==o_id) & (kge['predicted_head']==predicted_head)]\n",
    "                        existing_row_id = None\n",
    "                        if len(existing_row) > 0:\n",
    "                            existing_row_id = existing_row.iloc[0].name\n",
    "\n",
    "                        if existing_row_id is not None:\n",
    "                            kge.at[existing_row_id, column_name] = rank\n",
    "                        else:             \n",
    "                            new_row = pd.DataFrame([[s, s_id, p, p_id, o, o_id, predicted_head] + filler], columns=columns)\n",
    "                            new_row.at[0, column_name] = rank\n",
    "                            kge = pd.concat([kge, new_row]) \n",
    "                            kge.reset_index(drop=True, inplace=True)\n",
    "                except:\n",
    "                    print('Couldn\\'t process line: ')\n",
    "                    print(line)\n",
    "                    \n",
    "    kge['rank_filtered'] = 0\n",
    "    for i, path in enumerate(paths):\n",
    "        kge[\"rank_filtered\"] += kge[f'rank_filtered_{i}']\n",
    "    kge[\"rank_filtered\"] /= len(paths)\n",
    "    \n",
    "    kge[[\"rank_filtered\"]] = kge[[\"rank_filtered\"]].applymap(lambda x: int(round(x, 0)) if isinstance(x, (int, float)) else x)\n",
    "    \n",
    "    kge.set_index(index, inplace=True)\n",
    "    return kge"
   ]
  },
  {
   "cell_type": "markdown",
   "id": "f4be8895-e943-482b-bcc1-807004def52a",
   "metadata": {},
   "source": [
    "# Join Data"
   ]
  },
  {
   "cell_type": "code",
   "execution_count": 30,
   "id": "c4b6ffad-9f18-4c33-a1dd-cab88311737b",
   "metadata": {},
   "outputs": [],
   "source": [
    "def get_prediction_data(dataset_name, symbolic_name, subsymbolic_name):\n",
    "    anyburl_run = 'alpha-100'\n",
    "    \n",
    "    eri = ERI(os.path.join('experiments', '0_datasets', dataset_name))\n",
    "    filename =  get_formatted_data_name(dataset_name, symbolic_name, subsymbolic_name)\n",
    "    \n",
    "    if os.path.exists(filename):\n",
    "        return pd.read_csv(filename)\n",
    "    else:\n",
    "        print('formatted predictions don\\'t exist yet. Creating...')\n",
    "        print('libkge...')\n",
    "        kge_folders = [f'{dataset_name}_{subsymbolic_name}_{i}' for i in range(1,6)]\n",
    "        kge = format_libkge([os.path.join('experiments', kge_folder, 'test_results', 'trace.yaml') for kge_folder in kge_folders], eri)\n",
    "        print(kge.head(10))\n",
    "        print('libkge done')\n",
    "              \n",
    "        print('anyburl...')\n",
    "        anyburl_folder = f'{dataset_name}_{symbolic_name}'\n",
    "        anyburl = format_anyburl(os.path.join('experiments', anyburl_folder, 'predictions', 'alpha-100'), eri)\n",
    "        print(anyburl.head(10))\n",
    "        print('anyburl done')              \n",
    "              \n",
    "        df = anyburl[['rank_filtered']].join(kge, lsuffix=\"_anyburl\", rsuffix=\"_kge\", how='outer')  \n",
    "        print(df.head(10))\n",
    "        \n",
    "        df.to_csv(filename)\n",
    "        return df.reset_index()"
   ]
  },
  {
   "cell_type": "code",
   "execution_count": null,
   "id": "ff30101b-9754-487f-b159-45ccd419fb70",
   "metadata": {},
   "outputs": [],
   "source": []
  }
 ],
 "metadata": {
  "kernelspec": {
   "display_name": "Python 3 (ipykernel)",
   "language": "python",
   "name": "python3"
  },
  "language_info": {
   "codemirror_mode": {
    "name": "ipython",
    "version": 3
   },
   "file_extension": ".py",
   "mimetype": "text/x-python",
   "name": "python",
   "nbconvert_exporter": "python",
   "pygments_lexer": "ipython3",
   "version": "3.8.12"
  }
 },
 "nbformat": 4,
 "nbformat_minor": 5
}
