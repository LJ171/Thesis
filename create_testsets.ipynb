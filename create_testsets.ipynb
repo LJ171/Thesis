{
 "cells": [
  {
   "cell_type": "markdown",
   "id": "34724e2b-6bad-4289-bd75-57cd26114884",
   "metadata": {
    "tags": []
   },
   "source": [
    "# imports"
   ]
  },
  {
   "cell_type": "code",
   "execution_count": 7,
   "id": "d88a0d89-954e-4aed-a30c-b1d1f79565fc",
   "metadata": {},
   "outputs": [],
   "source": [
    "import pandas as pd\n",
    "import os\n",
    "import math\n",
    "\n",
    "%run utils.ipynb"
   ]
  },
  {
   "cell_type": "markdown",
   "id": "b8375ede-a40b-4602-a0ec-0a9e73982cb5",
   "metadata": {},
   "source": [
    "# helper methods"
   ]
  },
  {
   "cell_type": "code",
   "execution_count": 8,
   "id": "d86cc21d-c629-4a50-bb09-e3e333107b67",
   "metadata": {},
   "outputs": [],
   "source": [
    "def convert_to_ids(df, path_to_dataset):\n",
    "    df = df.copy()\n",
    "    eri = ERI(path_to_dataset)\n",
    "    df['h_id'] = eri.get_entity_ids(df['h_id'].values)\n",
    "    df['t_id'] = eri.get_entity_ids(df['t_id'].values)\n",
    "    df['r_id'] = eri.get_relation_ids(df['r_id'].values)\n",
    "    \n",
    "    return df\n",
    "\n",
    "def convert_to_names(df, path_to_dataset):\n",
    "    df = df.copy()\n",
    "    eri = ERI(path_to_dataset)\n",
    "    df['h_id'] = eri.get_entities_by_id(df['h_id'].values)\n",
    "    df['t_id'] = eri.get_entities_by_id(df['t_id'].values)\n",
    "    df['r_id'] = eri.get_relations_by_id(df['r_id'].values)\n",
    "    \n",
    "    return df\n",
    "\n",
    "def save_testset(path_to_dataset, dataset, set_des, df):\n",
    "    df.to_csv(os.path.join('testsets', dataset, f'test_{set_des}.del'), sep='\\t', header=False, index=False)\n",
    "    convert_to_names(df, path_to_dataset).to_csv(os.path.join('testsets', dataset, f'test_{set_des}.txt'), sep='\\t', header=False, index=False)"
   ]
  },
  {
   "cell_type": "code",
   "execution_count": 9,
   "id": "0e689807-5327-4429-8917-4abac290bbbd",
   "metadata": {},
   "outputs": [
    {
     "name": "stdout",
     "output_type": "stream",
     "text": [
      "using precalculated values from temp\\_get_relation_classes-experiments-wnrr_complex_1-checkpoint_best-pt.txt\n",
      "using precalculated values from temp\\_get_relation_frequency_in_training_data-wnrr.txt\n",
      "using precalculated values from temp\\get_similar_triples_in_trainings_data-6268wnrr.txt\n",
      "using precalculated values from temp\\_get_relation_classes-experiments-codex-m_complex_1-checkpoint_best-pt.txt\n",
      "using precalculated values from temp\\_get_relation_frequency_in_training_data-codex-m.txt\n",
      "using precalculated values from temp\\get_similar_triples_in_trainings_data-20622codex-m.txt\n",
      "using precalculated values from temp\\_get_relation_classes-experiments-yago3-10_complex_1-checkpoint_best-pt.txt\n",
      "using precalculated values from temp\\_get_relation_frequency_in_training_data-yago3-10.txt\n",
      "using precalculated values from temp\\get_similar_triples_in_trainings_data-10000yago3-10.txt\n",
      "using precalculated values from temp\\_get_relation_classes-experiments-fb15k-237_complex_1-checkpoint_best-pt.txt\n",
      "using precalculated values from temp\\_get_relation_frequency_in_training_data-fb15k-237.txt\n",
      "using precalculated values from temp\\get_similar_triples_in_trainings_data-40932fb15k-237.txt\n"
     ]
    }
   ],
   "source": [
    "for dataset in ['wnrr', 'codex-m', 'yago3-10', 'fb15k-237']:\n",
    "    # load dataset\n",
    "    path_to_dataset = os.path.join('experiments', '0_datasets', dataset)\n",
    "    df = pd.read_csv(os.path.join(path_to_dataset,'test.del'), delimiter='\\t', header=None, names=['h_id', 'r_id', 't_id'])\n",
    "    \n",
    "    # relation class test sets\n",
    "    relation_classes = get_relation_classes(os.path.join('experiments', f'{dataset}_complex_1', 'checkpoint_best.pt'))\n",
    "\n",
    "    ## 1-1\n",
    "    df_1_1_set = df[df['r_id'].isin(relation_classes[relation_classes['relationClass'] == '1-1']['r_id'].values)]\n",
    "    save_testset(path_to_dataset, dataset, 'one-to-one', df_1_1_set)\n",
    "\n",
    "    ## multi-cardinality\n",
    "    df_multi_cardinality_set = df[~df['r_id'].isin(relation_classes[relation_classes['relationClass'] == '1-1']['r_id'].values)]\n",
    "    save_testset(path_to_dataset, dataset, 'multi-cardinality', df_multi_cardinality_set)\n",
    "    \n",
    "    # relation frequency test sets\n",
    "    relation_frequency = get_relation_frequency_in_training_data(dataset).sort_values('freq', ascending=False)\n",
    "    amount_relations_25p = math.ceil(relation_frequency.shape[0] * 0.25)\n",
    "    amount_relations_10p = math.ceil(relation_frequency.shape[0] * 0.05)\n",
    "\n",
    "    ## frequent\n",
    "    df_25p_most_frequent_relations = df[df['r_id'].isin(relation_frequency['r_id'].values[:amount_relations_10p])]\n",
    "    save_testset(path_to_dataset, dataset, '25p-most-frequent-relations', df_25p_most_frequent_relations)\n",
    "\n",
    "    ## infrequent\n",
    "    df_25p_least_frequent_relations = df[df['r_id'].isin(relation_frequency['r_id'].values[-amount_relations_25p:])]\n",
    "    save_testset(path_to_dataset, dataset, '25p-least-frequent-relations', df_25p_least_frequent_relations)\n",
    "    \n",
    "    # similar triples in trainings data test sets\n",
    "    df_dir_1 = df.copy()\n",
    "    df_dir_1['predicted_head'] = True\n",
    "    df_dir_2 = df.copy()\n",
    "    df_dir_2['predicted_head'] = False\n",
    "    df_dir = pd.concat([df_dir_1, df_dir_2])\n",
    "\n",
    "    df_dir = get_similar_triples_in_trainings_data(df_dir, dataset)\n",
    "\n",
    "    ## no similar\n",
    "    df_no_similar = df_dir[df_dir['similar_triples'] == 0][['h_id','r_id','t_id']].drop_duplicates()\n",
    "    save_testset(path_to_dataset, dataset, 'no-similar-triples-in-training', df_no_similar)\n",
    "\n",
    "    ## at least one similar\n",
    "    df_similar = df_dir[df_dir['similar_triples'] > 0][['h_id','r_id','t_id']].drop_duplicates()\n",
    "    save_testset(path_to_dataset, dataset, 'at-least-one-similar-triple-in-training', df_similar)"
   ]
  }
 ],
 "metadata": {
  "kernelspec": {
   "display_name": "Python 3 (ipykernel)",
   "language": "python",
   "name": "python3"
  },
  "language_info": {
   "codemirror_mode": {
    "name": "ipython",
    "version": 3
   },
   "file_extension": ".py",
   "mimetype": "text/x-python",
   "name": "python",
   "nbconvert_exporter": "python",
   "pygments_lexer": "ipython3",
   "version": "3.8.12"
  }
 },
 "nbformat": 4,
 "nbformat_minor": 5
}
