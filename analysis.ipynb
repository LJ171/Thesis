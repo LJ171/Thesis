{
 "cells": [
  {
   "cell_type": "markdown",
   "id": "3da22ee9-7747-4c20-815b-5e515b7f75cc",
   "metadata": {
    "tags": []
   },
   "source": [
    "# Parameters"
   ]
  },
  {
   "cell_type": "code",
   "execution_count": 11,
   "id": "7117f8e6-4e41-4261-b5de-95210b109dc8",
   "metadata": {},
   "outputs": [],
   "source": [
    "dataset_name = 'wn18'\n",
    "\n",
    "symbolic_name = 'AnyBURL'\n",
    "symbolic = 'anyburl'\n",
    "\n",
    "subsymbolic_name = 'ComplEx'\n",
    "subsymbolic = 'complex'\n",
    "\n",
    "bp_threshold = 5\n",
    "relation_class_threshold = 0.7"
   ]
  },
  {
   "cell_type": "markdown",
   "id": "06212f72-6fd4-460e-94c3-54cf10f5ef6a",
   "metadata": {
    "tags": []
   },
   "source": [
    "# Imports"
   ]
  },
  {
   "cell_type": "code",
   "execution_count": 12,
   "id": "6559dbd0-bb72-40ad-8b32-db1c3b6889dd",
   "metadata": {},
   "outputs": [],
   "source": [
    "%run utils.ipynb\n",
    "%run graphs.ipynb\n",
    "%run format_predictions.ipynb\n",
    "\n",
    "from matplotlib.backends.backend_pdf import PdfPages\n",
    "import os\n",
    "import pandas as pd"
   ]
  },
  {
   "cell_type": "markdown",
   "id": "818ada7b-83dd-4452-9825-107c4b58a0ac",
   "metadata": {
    "tags": []
   },
   "source": [
    "# Load Data"
   ]
  },
  {
   "cell_type": "code",
   "execution_count": 13,
   "id": "009d09d0-935c-425e-8cf1-0093e92dce45",
   "metadata": {},
   "outputs": [
    {
     "name": "stdout",
     "output_type": "stream",
     "text": [
      "formatted predictions don't exist yet. Creating...\n",
      "libkge...\n",
      "experiments\\wn18_complex_1\\test_results\\trace.yaml...\n",
      "Couldn't process line: \n",
      "{\"batches\": \"20\", \"entry_id\": \"19dbc7a9-8bed-4c23-9720-72607ef1510a\", \"epoch\": \"205\", \"epoch_time\": \"34.71787929534912\", \"event\": \"eval_completed\", \"filter_splits\": [\"train\", \"valid\", \"test\"], \"hits_at_1\": \"0.4506\", \"hits_at_10\": \"0.8062\", \"hits_at_100\": \"0.9306000000000001\", \"hits_at_1000\": \"0.9734\", hits_at_1000_1-\"1\": \"0.9761904761904762\", hits_at_1000_1-\"N\": \"0.9723876556578236\", hits_at_1000_M-\"1\": \"0.9765270065623423\", hits_at_1000_M-\"N\": \"0.9694690265486725\", \"hits_at_1000_filtered\": \"0.9734\", hits_at_1000_filtered_1-\"1\": \"0.9761904761904762\", hits_at_1000_filtered_1-\"N\": \"0.9723876556578236\", hits_at_1000_filtered_M-\"1\": \"0.9765270065623423\", hits_at_1000_filtered_M-\"N\": \"0.9694690265486725\", hits_at_100_1-\"1\": \"0.9761904761904762\", hits_at_100_1-\"N\": \"0.9209528965890634\", hits_at_100_M-\"1\": \"0.919989904088844\", hits_at_100_M-\"N\": \"0.9632743362831858\", \"hits_at_100_filtered\": \"0.9652000000000001\", hits_at_100_filtered_1-\"1\": \"0.9761904761904762\", hits_at_100_filtered_1-\"N\": \"0.963183540877098\", hits_at_100_filtered_M-\"1\": \"0.9679454820797577\", hits_at_100_filtered_M-\"N\": \"0.9632743362831858\", hits_at_10_1-\"1\": \"0.9761904761904762\", hits_at_10_1-\"N\": \"0.7634001082837033\", hits_at_10_M-\"1\": \"0.7617364967188288\", hits_at_10_M-\"N\": \"0.947787610619469\", \"hits_at_10_filtered\": \"0.9571000000000001\", hits_at_10_filtered_1-\"1\": \"0.9761904761904762\", hits_at_10_filtered_1-\"N\": \"0.9556036816459124\", hits_at_10_filtered_M-\"1\": \"0.9606259464916709\", hits_at_10_filtered_M-\"N\": \"0.9526548672566372\", hits_at_1_1-\"1\": \"0.7023809523809523\", hits_at_1_1-\"N\": \"0.5024363833243097\", hits_at_1_M-\"1\": \"0.500504795557799\", hits_at_1_M-\"N\": \"0.26902654867256637\", \"hits_at_1_filtered\": \"0.9463\", hits_at_1_filtered_1-\"1\": \"0.9761904761904762\", hits_at_1_filtered_1-\"N\": \"0.94775311315647\", hits_at_1_filtered_M-\"1\": \"0.9492680464411913\", hits_at_1_filtered_M-\"N\": \"0.9376106194690266\", \"hits_at_200\": \"0.9511000000000001\", hits_at_200_1-\"1\": \"0.9761904761904762\", hits_at_200_1-\"N\": \"0.9461288576069302\", hits_at_200_M-\"1\": \"0.9469964664310954\", hits_at_200_M-\"N\": \"0.9654867256637168\", \"hits_at_200_filtered\": \"0.9683\", hits_at_200_filtered_1-\"1\": \"0.9761904761904762\", hits_at_200_filtered_1-\"N\": \"0.9669734704926909\", hits_at_200_filtered_M-\"1\": \"0.9709742554265522\", hits_at_200_filtered_M-\"N\": \"0.9654867256637168\", \"hits_at_3\": \"0.6463\", \"hits_at_300\": \"0.9615\", hits_at_300_1-\"1\": \"0.9761904761904762\", hits_at_300_1-\"N\": \"0.9585814834867353\", hits_at_300_M-\"1\": \"0.961635537607269\", hits_at_300_M-\"N\": \"0.9654867256637168\", \"hits_at_300_filtered\": \"0.9690000000000001\", hits_at_300_filtered_1-\"1\": \"0.9761904761904762\", hits_at_300_filtered_1-\"N\": \"0.9675148890092041\", hits_at_300_filtered_M-\"1\": \"0.9722362443210499\", hits_at_300_filtered_M-\"N\": \"0.9654867256637168\", hits_at_3_1-\"1\": \"0.9523809523809523\", hits_at_3_1-\"N\": \"0.6293990254466703\", hits_at_3_M-\"1\": \"0.624432104997476\", hits_at_3_M-\"N\": \"0.7008849557522123\", \"hits_at_3_filtered\": \"0.9535\", hits_at_3_filtered_1-\"1\": \"0.9761904761904762\", hits_at_3_filtered_1-\"N\": \"0.9534380075798593\", hits_at_3_filtered_M-\"1\": \"0.9565875820292782\", hits_at_3_filtered_M-\"N\": \"0.9473451327433628\", \"hits_at_400\": \"0.9648\", hits_at_400_1-\"1\": \"0.9761904761904762\", hits_at_400_1-\"N\": \"0.9618299945858149\", hits_at_400_M-\"1\": \"0.9664310954063604\", hits_at_400_M-\"N\": \"0.9663716814159292\", \"hits_at_400_filtered\": \"0.9697\", hits_at_400_filtered_1-\"1\": \"0.9761904761904762\", hits_at_400_filtered_1-\"N\": \"0.9685977260422307\", hits_at_400_filtered_M-\"1\": \"0.9724886420999496\", hits_at_400_filtered_M-\"N\": \"0.9663716814159292\", \"hits_at_50\": \"0.9075000000000001\", \"hits_at_500\": \"0.9696\", hits_at_500_1-\"1\": \"0.9761904761904762\", hits_at_500_1-\"N\": \"0.9685977260422307\", hits_at_500_M-\"1\": \"0.9719838465421504\", hits_at_500_M-\"N\": \"0.9668141592920354\", \"hits_at_500_filtered\": \"0.9708\", hits_at_500_filtered_1-\"1\": \"0.9761904761904762\", hits_at_500_filtered_1-\"N\": \"0.9704926908500271\", hits_at_500_filtered_M-\"1\": \"0.9732458354366481\", hits_at_500_filtered_M-\"N\": \"0.9668141592920354\", hits_at_50_1-\"1\": \"0.9761904761904762\", hits_at_50_1-\"N\": \"0.889550622631294\", hits_at_50_M-\"1\": \"0.8929833417465927\", hits_at_50_M-\"N\": \"0.9597345132743362\", \"hits_at_50_filtered\": \"0.9625\", hits_at_50_filtered_1-\"1\": \"0.9761904761904762\", hits_at_50_filtered_1-\"N\": \"0.961017866811045\", hits_at_50_filtered_M-\"1\": \"0.9649167087329631\", hits_at_50_filtered_M-\"N\": \"0.9601769911504424\", \"job\": \"eval\", \"job_id\": \"54142b5b-607e-4cc9-8838-e178f947462a\", \"mean_rank\": \"454.7439\", mean_rank_1-\"1\": \"432.6666666666667\", mean_rank_1-\"N\": \"461.37736870600975\", mean_rank_M-\"1\": \"470.20696617869766\", mean_rank_M-\"N\": \"417.6137168141593\", \"mean_rank_filtered\": \"441.2015\", mean_rank_filtered_1-\"1\": \"432.3333333333333\", mean_rank_filtered_1-\"N\": \"444.7809962100704\", mean_rank_filtered_M-\"1\": \"452.5159010600707\", mean_rank_filtered_M-\"N\": \"415.84513274336285\", \"mean_reciprocal_rank\": \"0.5721884765625\", mean_reciprocal_rank_1-\"1\": \"0.8333346957252139\", mean_reciprocal_rank_1-\"N\": \"0.5901646224240322\", mean_reciprocal_rank_M-\"1\": \"0.5867441746395444\", mean_reciprocal_rank_M-\"N\": \"0.5075825649025166\", \"mean_reciprocal_rank_filtered\": \"0.95060166015625\", mean_reciprocal_rank_filtered_1-\"1\": \"0.9761918385823568\", mean_reciprocal_rank_filtered_1-\"N\": \"0.9510728704909989\", mean_reciprocal_rank_filtered_M-\"1\": \"0.9536797082045053\", mean_reciprocal_rank_filtered_M-\"N\": \"0.9434845780904314\", \"mean_reciprocal_rank_filtered_with_test\": \".nan\", \"num_parameters\": \"20981248\", \"resumed_from_job_id\": \"515c5982-0e7b-420a-b941-294d914d797a\", \"scope\": \"epoch\", \"size\": \"5000\", \"split\": \"test\", \"timestamp\": \"1649660903.894233\", \"type\": \"entity_ranking\"}\n",
      "\n",
      "experiments\\wn18_complex_2\\test_results\\trace.yaml...\n",
      "Couldn't process line: \n",
      "{\"batches\": \"20\", \"entry_id\": \"d43f0e48-e0c5-4fee-999c-ca18cbc290d5\", \"epoch\": \"140\", \"epoch_time\": \"35.04679036140442\", \"event\": \"eval_completed\", \"filter_splits\": [\"train\", \"valid\", \"test\"], \"hits_at_1\": \"0.4516\", \"hits_at_10\": \"0.8074\", \"hits_at_100\": \"0.933\", \"hits_at_1000\": \"0.9711000000000001\", hits_at_1000_1-\"1\": \"0.9761904761904762\", hits_at_1000_1-\"N\": \"0.971304818624797\", hits_at_1000_M-\"1\": \"0.9740030287733468\", hits_at_1000_M-\"N\": \"0.9654867256637168\", \"hits_at_1000_filtered\": \"0.9713\", hits_at_1000_filtered_1-\"1\": \"0.9761904761904762\", hits_at_1000_filtered_1-\"N\": \"0.9718462371413102\", hits_at_1000_filtered_M-\"1\": \"0.9740030287733468\", hits_at_1000_filtered_M-\"N\": \"0.9654867256637168\", hits_at_100_1-\"1\": \"0.9761904761904762\", hits_at_100_1-\"N\": \"0.9223064428803466\", hits_at_100_M-\"1\": \"0.9252902574457345\", hits_at_100_M-\"N\": \"0.9623893805309734\", \"hits_at_100_filtered\": \"0.9650000000000001\", hits_at_100_filtered_1-\"1\": \"0.9761904761904762\", hits_at_100_filtered_1-\"N\": \"0.9642663779101246\", hits_at_100_filtered_M-\"1\": \"0.9669358909641596\", hits_at_100_filtered_M-\"N\": \"0.9623893805309734\", hits_at_10_1-\"1\": \"0.9761904761904762\", hits_at_10_1-\"N\": \"0.7639415268002167\", hits_at_10_M-\"1\": \"0.7645128722867238\", hits_at_10_M-\"N\": \"0.9473451327433628\", \"hits_at_10_filtered\": \"0.9563\", hits_at_10_filtered_1-\"1\": \"0.9761904761904762\", hits_at_10_filtered_1-\"N\": \"0.9547915538711425\", hits_at_10_filtered_M-\"1\": \"0.958859162039374\", hits_at_10_filtered_M-\"N\": \"0.9535398230088495\", hits_at_1_1-\"1\": \"0.7023809523809523\", hits_at_1_1-\"N\": \"0.5027070925825663\", hits_at_1_M-\"1\": \"0.5022715800100959\", hits_at_1_M-\"N\": \"0.26991150442477874\", \"hits_at_1_filtered\": \"0.9466\", hits_at_1_filtered_1-\"1\": \"0.9761904761904762\", hits_at_1_filtered_1-\"N\": \"0.9480238224147266\", hits_at_1_filtered_M-\"1\": \"0.9507824331145885\", hits_at_1_filtered_M-\"N\": \"0.9358407079646017\", \"hits_at_200\": \"0.9492\", hits_at_200_1-\"1\": \"0.9761904761904762\", hits_at_200_1-\"N\": \"0.942609637249594\", hits_at_200_M-\"1\": \"0.9462392730943967\", hits_at_200_M-\"N\": \"0.9641592920353982\", \"hits_at_200_filtered\": \"0.9668\", hits_at_200_filtered_1-\"1\": \"0.9761904761904762\", hits_at_200_filtered_1-\"N\": \"0.966161342717921\", hits_at_200_filtered_M-\"1\": \"0.9687026754164563\", hits_at_200_filtered_M-\"N\": \"0.9641592920353982\", \"hits_at_3\": \"0.646\", \"hits_at_300\": \"0.9596\", hits_at_300_1-\"1\": \"0.9761904761904762\", hits_at_300_1-\"N\": \"0.9577693557119654\", hits_at_300_M-\"1\": \"0.9583543664815749\", hits_at_300_M-\"N\": \"0.9641592920353982\", \"hits_at_300_filtered\": \"0.9675\", hits_at_300_filtered_1-\"1\": \"0.9761904761904762\", hits_at_300_filtered_1-\"N\": \"0.9675148890092041\", hits_at_300_filtered_M-\"1\": \"0.9692074709742554\", hits_at_300_filtered_M-\"N\": \"0.9641592920353982\", hits_at_3_1-\"1\": \"0.9523809523809523\", hits_at_3_1-\"N\": \"0.6280454791553871\", hits_at_3_M-\"1\": \"0.6251892983341747\", hits_at_3_M-\"N\": \"0.7004424778761061\", \"hits_at_3_filtered\": \"0.9522\", hits_at_3_filtered_1-\"1\": \"0.9761904761904762\", hits_at_3_filtered_1-\"N\": \"0.9512723335138062\", hits_at_3_filtered_M-\"1\": \"0.956082786471479\", hits_at_3_filtered_M-\"N\": \"0.9460176991150442\", \"hits_at_400\": \"0.9639000000000001\", hits_at_400_1-\"1\": \"0.9761904761904762\", hits_at_400_1-\"N\": \"0.9629128316188414\", hits_at_400_M-\"1\": \"0.9644119131751641\", hits_at_400_M-\"N\": \"0.9641592920353982\", \"hits_at_400_filtered\": \"0.9682000000000001\", hits_at_400_filtered_1-\"1\": \"0.9761904761904762\", hits_at_400_filtered_1-\"N\": \"0.9680563075257174\", hits_at_400_filtered_M-\"1\": \"0.9704694598687531\", hits_at_400_filtered_M-\"N\": \"0.9641592920353982\", \"hits_at_50\": \"0.9091\", \"hits_at_500\": \"0.9677\", hits_at_500_1-\"1\": \"0.9761904761904762\", hits_at_500_1-\"N\": \"0.9672441797509476\", hits_at_500_M-\"1\": \"0.9697122665320546\", hits_at_500_M-\"N\": \"0.9646017699115044\", \"hits_at_500_filtered\": \"0.9688\", hits_at_500_filtered_1-\"1\": \"0.9761904761904762\", hits_at_500_filtered_1-\"N\": \"0.9685977260422307\", hits_at_500_filtered_M-\"1\": \"0.9712266532054518\", hits_at_500_filtered_M-\"N\": \"0.9646017699115044\", hits_at_50_1-\"1\": \"0.9761904761904762\", hits_at_50_1-\"N\": \"0.8906334596643205\", hits_at_50_M-\"1\": \"0.8960121150933872\", hits_at_50_M-\"N\": \"0.9597345132743362\", \"hits_at_50_filtered\": \"0.9613\", hits_at_50_filtered_1-\"1\": \"0.9761904761904762\", hits_at_50_filtered_1-\"N\": \"0.9599350297780185\", hits_at_50_filtered_M-\"1\": \"0.9628975265017667\", hits_at_50_filtered_M-\"N\": \"0.9601769911504424\", \"job\": \"eval\", \"job_id\": \"2b5f78cc-398f-4a18-997d-b3b93d222cdb\", \"mean_rank\": \"491.0724\", mean_rank_1-\"1\": \"251.95238095238096\", mean_rank_1-\"N\": \"500.3708716838116\", mean_rank_M-\"1\": \"431.8228167592125\", mean_rank_M-\"N\": \"588.6318584070797\", \"mean_rank_filtered\": \"477.9823\", mean_rank_filtered_1-\"1\": \"251.61904761904762\", mean_rank_filtered_1-\"N\": \"483.88115863562535\", mean_rank_filtered_M-\"1\": \"415.173397274104\", mean_rank_filtered_M-\"N\": \"586.8641592920354\", \"mean_reciprocal_rank\": \"0.57288740234375\", mean_reciprocal_rank_1-\"1\": \"0.8333356039864677\", mean_reciprocal_rank_1-\"N\": \"0.5902884111058473\", mean_reciprocal_rank_M-\"1\": \"0.5882241770452108\", mean_reciprocal_rank_M-\"N\": \"0.5078778022158462\", \"mean_reciprocal_rank_filtered\": \"0.9502142578125\", mean_reciprocal_rank_filtered_1-\"1\": \"0.9761927468436105\", mean_reciprocal_rank_filtered_1-\"N\": \"0.9505360122622835\", mean_reciprocal_rank_filtered_M-\"1\": \"0.954025214636705\", mean_reciprocal_rank_filtered_M-\"N\": \"0.9420418798396017\", \"mean_reciprocal_rank_filtered_with_test\": \".nan\", \"num_parameters\": \"20981248\", \"resumed_from_job_id\": \"a42ca536-1195-4fb6-940a-805865496666\", \"scope\": \"epoch\", \"size\": \"5000\", \"split\": \"test\", \"timestamp\": \"1649660961.4189022\", \"type\": \"entity_ranking\"}\n",
      "\n",
      "experiments\\wn18_complex_3\\test_results\\trace.yaml...\n",
      "Couldn't process line: \n",
      "{\"batches\": \"20\", \"entry_id\": \"5ef630a3-40bc-4532-ac7c-8bf1250c3779\", \"epoch\": \"140\", \"epoch_time\": \"32.21326923370361\", \"event\": \"eval_completed\", \"filter_splits\": [\"train\", \"valid\", \"test\"], \"hits_at_1\": \"0.45120000000000005\", \"hits_at_10\": \"0.8095\", \"hits_at_100\": \"0.9337000000000001\", \"hits_at_1000\": \"0.9718\", hits_at_1000_1-\"1\": \"0.9761904761904762\", hits_at_1000_1-\"N\": \"0.971304818624797\", hits_at_1000_M-\"1\": \"0.9752650176678445\", hits_at_1000_M-\"N\": \"0.9663716814159292\", \"hits_at_1000_filtered\": \"0.9719000000000001\", hits_at_1000_filtered_1-\"1\": \"0.9761904761904762\", hits_at_1000_filtered_1-\"N\": \"0.9715755278830537\", hits_at_1000_filtered_M-\"1\": \"0.9752650176678445\", hits_at_1000_filtered_M-\"N\": \"0.9663716814159292\", hits_at_100_1-\"1\": \"0.9761904761904762\", hits_at_100_1-\"N\": \"0.9228478613968598\", hits_at_100_M-\"1\": \"0.9275618374558304\", hits_at_100_M-\"N\": \"0.9606194690265487\", \"hits_at_100_filtered\": \"0.9649000000000001\", hits_at_100_filtered_1-\"1\": \"0.9761904761904762\", hits_at_100_filtered_1-\"N\": \"0.9634542501353547\", hits_at_100_filtered_M-\"1\": \"0.9684502776375568\", hits_at_100_filtered_M-\"N\": \"0.9606194690265487\", hits_at_10_1-\"1\": \"0.9761904761904762\", hits_at_10_1-\"N\": \"0.7671900378992962\", hits_at_10_M-\"1\": \"0.7680464411913175\", hits_at_10_M-\"N\": \"0.9451327433628318\", \"hits_at_10_filtered\": \"0.9566\", hits_at_10_filtered_1-\"1\": \"0.9761904761904762\", hits_at_10_filtered_1-\"N\": \"0.9558743909041689\", hits_at_10_filtered_M-\"1\": \"0.9598687531549722\", hits_at_10_filtered_M-\"N\": \"0.9513274336283186\", hits_at_1_1-\"1\": \"0.7023809523809523\", hits_at_1_1-\"N\": \"0.5046020573903628\", hits_at_1_M-\"1\": \"0.5007571933366987\", hits_at_1_M-\"N\": \"0.26769911504424776\", \"hits_at_1_filtered\": \"0.9460000000000001\", hits_at_1_filtered_1-\"1\": \"0.9761904761904762\", hits_at_1_filtered_1-\"N\": \"0.9488359501894965\", hits_at_1_filtered_M-\"1\": \"0.9492680464411913\", hits_at_1_filtered_M-\"N\": \"0.9345132743362832\", \"hits_at_200\": \"0.9509000000000001\", hits_at_200_1-\"1\": \"0.9761904761904762\", hits_at_200_1-\"N\": \"0.9480238224147266\", hits_at_200_M-\"1\": \"0.9467440686521958\", hits_at_200_M-\"N\": \"0.9619469026548673\", \"hits_at_200_filtered\": \"0.9667\", hits_at_200_filtered_1-\"1\": \"0.9761904761904762\", hits_at_200_filtered_1-\"N\": \"0.9667027612344342\", hits_at_200_filtered_M-\"1\": \"0.9692074709742554\", hits_at_200_filtered_M-\"N\": \"0.9619469026548673\", \"hits_at_3\": \"0.6464000000000001\", \"hits_at_300\": \"0.9607\", hits_at_300_1-\"1\": \"0.9761904761904762\", hits_at_300_1-\"N\": \"0.9593936112615051\", hits_at_300_M-\"1\": \"0.9606259464916709\", hits_at_300_M-\"N\": \"0.9623893805309734\", \"hits_at_300_filtered\": \"0.9676\", hits_at_300_filtered_1-\"1\": \"0.9761904761904762\", hits_at_300_filtered_1-\"N\": \"0.9680563075257174\", hits_at_300_filtered_M-\"1\": \"0.9699646643109541\", hits_at_300_filtered_M-\"N\": \"0.9623893805309734\", hits_at_3_1-\"1\": \"0.9523809523809523\", hits_at_3_1-\"N\": \"0.6299404439631836\", hits_at_3_M-\"1\": \"0.624432104997476\", hits_at_3_M-\"N\": \"0.7004424778761061\", \"hits_at_3_filtered\": \"0.9528000000000001\", hits_at_3_filtered_1-\"1\": \"0.9761904761904762\", hits_at_3_filtered_1-\"N\": \"0.952896589063346\", hits_at_3_filtered_M-\"1\": \"0.9565875820292782\", hits_at_3_filtered_M-\"N\": \"0.9451327433628318\", \"hits_at_400\": \"0.9649000000000001\", hits_at_400_1-\"1\": \"0.9761904761904762\", hits_at_400_1-\"N\": \"0.9639956686518679\", hits_at_400_M-\"1\": \"0.9664310954063604\", hits_at_400_M-\"N\": \"0.9632743362831858\", \"hits_at_400_filtered\": \"0.9686\", hits_at_400_filtered_1-\"1\": \"0.9761904761904762\", hits_at_400_filtered_1-\"N\": \"0.9685977260422307\", hits_at_400_filtered_M-\"1\": \"0.9714790509843513\", hits_at_400_filtered_M-\"N\": \"0.9632743362831858\", \"hits_at_50\": \"0.9132\", \"hits_at_500\": \"0.9687\", hits_at_500_1-\"1\": \"0.9761904761904762\", hits_at_500_1-\"N\": \"0.9680563075257174\", hits_at_500_M-\"1\": \"0.9712266532054518\", hits_at_500_M-\"N\": \"0.9650442477876106\", \"hits_at_500_filtered\": \"0.9697\", hits_at_500_filtered_1-\"1\": \"0.9761904761904762\", hits_at_500_filtered_1-\"N\": \"0.9694098538170006\", hits_at_500_filtered_M-\"1\": \"0.9724886420999496\", hits_at_500_filtered_M-\"N\": \"0.9650442477876106\", hits_at_50_1-\"1\": \"0.9761904761904762\", hits_at_50_1-\"N\": \"0.8974011911207364\", hits_at_50_M-\"1\": \"0.9008076728924785\", hits_at_50_M-\"N\": \"0.9584070796460177\", \"hits_at_50_filtered\": \"0.9626\", hits_at_50_filtered_1-\"1\": \"0.9761904761904762\", hits_at_50_filtered_1-\"N\": \"0.9618299945858149\", hits_at_50_filtered_M-\"1\": \"0.9651691065118627\", hits_at_50_filtered_M-\"N\": \"0.9588495575221239\", \"job\": \"eval\", \"job_id\": \"88f6e28b-19a8-4e1e-a93b-675e3d064ba7\", \"mean_rank\": \"451.1251\", mean_rank_1-\"1\": \"711.5714285714286\", mean_rank_1-\"N\": \"434.2736870600975\", mean_rank_M-\"1\": \"421.3258455325593\", mean_rank_M-\"N\": \"521.2296460176991\", \"mean_rank_filtered\": \"438.5128\", mean_rank_filtered_1-\"1\": \"711.2380952380952\", mean_rank_filtered_1-\"N\": \"418.6946399566865\", mean_rank_filtered_M-\"1\": \"405.03356890459366\", mean_rank_filtered_M-\"N\": \"519.4615044247788\", \"mean_reciprocal_rank\": \"0.5732994140625\", mean_reciprocal_rank_1-\"1\": \"0.8333341507684617\", mean_reciprocal_rank_1-\"N\": \"0.592439082485957\", mean_reciprocal_rank_M-\"1\": \"0.5881656991418476\", mean_reciprocal_rank_M-\"N\": \"0.5062883495229535\", \"mean_reciprocal_rank_filtered\": \"0.95011025390625\", mean_reciprocal_rank_filtered_1-\"1\": \"0.9761912936256045\", mean_reciprocal_rank_filtered_1-\"N\": \"0.9514805866565714\", mean_reciprocal_rank_filtered_M-\"1\": \"0.9534564569464601\", mean_reciprocal_rank_filtered_M-\"N\": \"0.9410356099626659\", \"mean_reciprocal_rank_filtered_with_test\": \".nan\", \"num_parameters\": \"20981248\", \"resumed_from_job_id\": \"8cd42bf4-94ce-439b-91c0-7925d611c9ab\", \"scope\": \"epoch\", \"size\": \"5000\", \"split\": \"test\", \"timestamp\": \"1649661128.778775\", \"type\": \"entity_ranking\"}\n",
      "\n",
      "experiments\\wn18_complex_4\\test_results\\trace.yaml...\n",
      "Couldn't process line: \n",
      "{\"batches\": \"20\", \"entry_id\": \"8bf83fbf-654d-4daf-81d0-6b558b23c1c8\", \"epoch\": \"110\", \"epoch_time\": \"35.060980558395386\", \"event\": \"eval_completed\", \"filter_splits\": [\"train\", \"valid\", \"test\"], \"hits_at_1\": \"0.4514\", \"hits_at_10\": \"0.8094\", \"hits_at_100\": \"0.9322\", \"hits_at_1000\": \"0.9696\", hits_at_1000_1-\"1\": \"0.9761904761904762\", hits_at_1000_1-\"N\": \"0.9696805630752572\", hits_at_1000_M-\"1\": \"0.9732458354366481\", hits_at_1000_M-\"N\": \"0.9628318584070796\", \"hits_at_1000_filtered\": \"0.9696\", hits_at_1000_filtered_1-\"1\": \"0.9761904761904762\", hits_at_1000_filtered_1-\"N\": \"0.9696805630752572\", hits_at_1000_filtered_M-\"1\": \"0.9732458354366481\", hits_at_1000_filtered_M-\"N\": \"0.9628318584070796\", hits_at_100_1-\"1\": \"0.9761904761904762\", hits_at_100_1-\"N\": \"0.9244721169463996\", hits_at_100_M-\"1\": \"0.9247854618879354\", hits_at_100_M-\"N\": \"0.9561946902654868\", \"hits_at_100_filtered\": \"0.9622\", hits_at_100_filtered_1-\"1\": \"0.9761904761904762\", hits_at_100_filtered_1-\"N\": \"0.9618299945858149\", hits_at_100_filtered_M-\"1\": \"0.9656739020696617\", hits_at_100_filtered_M-\"N\": \"0.9561946902654868\", hits_at_10_1-\"1\": \"0.9761904761904762\", hits_at_10_1-\"N\": \"0.7680021656740661\", hits_at_10_M-\"1\": \"0.7662796567390207\", hits_at_10_M-\"N\": \"0.9464601769911505\", \"hits_at_10_filtered\": \"0.9553\", hits_at_10_filtered_1-\"1\": \"0.9761904761904762\", hits_at_10_filtered_1-\"N\": \"0.9534380075798593\", hits_at_10_filtered_M-\"1\": \"0.9583543664815749\", hits_at_10_filtered_M-\"N\": \"0.952212389380531\", hits_at_1_1-\"1\": \"0.7023809523809523\", hits_at_1_1-\"N\": \"0.5032485110990796\", hits_at_1_M-\"1\": \"0.5015143866733973\", hits_at_1_M-\"N\": \"0.26946902654867255\", \"hits_at_1_filtered\": \"0.9456\", hits_at_1_filtered_1-\"1\": \"0.9761904761904762\", hits_at_1_filtered_1-\"N\": \"0.9472116946399567\", hits_at_1_filtered_M-\"1\": \"0.9482584553255932\", hits_at_1_filtered_M-\"N\": \"0.9371681415929204\", \"hits_at_200\": \"0.9486\", hits_at_200_1-\"1\": \"0.9761904761904762\", hits_at_200_1-\"N\": \"0.9450460205739036\", hits_at_200_M-\"1\": \"0.9452296819787985\", hits_at_200_M-\"N\": \"0.95929203539823\", \"hits_at_200_filtered\": \"0.9644\", hits_at_200_filtered_1-\"1\": \"0.9761904761904762\", hits_at_200_filtered_1-\"N\": \"0.9637249593936112\", hits_at_200_filtered_M-\"1\": \"0.9676930843008581\", hits_at_200_filtered_M-\"N\": \"0.95929203539823\", \"hits_at_3\": \"0.646\", \"hits_at_300\": \"0.9585\", hits_at_300_1-\"1\": \"0.9761904761904762\", hits_at_300_1-\"N\": \"0.9558743909041689\", hits_at_300_M-\"1\": \"0.9596163553760727\", hits_at_300_M-\"N\": \"0.9601769911504424\", \"hits_at_300_filtered\": \"0.9656\", hits_at_300_filtered_1-\"1\": \"0.9761904761904762\", hits_at_300_filtered_1-\"N\": \"0.9650785056848945\", hits_at_300_filtered_M-\"1\": \"0.9689550731953559\", hits_at_300_filtered_M-\"N\": \"0.9601769911504424\", hits_at_3_1-\"1\": \"0.9523809523809523\", hits_at_3_1-\"N\": \"0.6293990254466703\", hits_at_3_M-\"1\": \"0.6236749116607774\", hits_at_3_M-\"N\": \"0.7008849557522123\", \"hits_at_3_filtered\": \"0.9519000000000001\", hits_at_3_filtered_1-\"1\": \"0.9761904761904762\", hits_at_3_filtered_1-\"N\": \"0.9518137520303195\", hits_at_3_filtered_M-\"1\": \"0.9545683997980817\", hits_at_3_filtered_M-\"N\": \"0.9464601769911505\", \"hits_at_400\": \"0.9627\", hits_at_400_1-\"1\": \"0.9761904761904762\", hits_at_400_1-\"N\": \"0.9599350297780185\", hits_at_400_M-\"1\": \"0.9659262998485613\", hits_at_400_M-\"N\": \"0.9610619469026549\", \"hits_at_400_filtered\": \"0.9668\", hits_at_400_filtered_1-\"1\": \"0.9761904761904762\", hits_at_400_filtered_1-\"N\": \"0.966161342717921\", hits_at_400_filtered_M-\"1\": \"0.9704694598687531\", hits_at_400_filtered_M-\"N\": \"0.9610619469026549\", \"hits_at_50\": \"0.9105000000000001\", \"hits_at_500\": \"0.9666\", hits_at_500_1-\"1\": \"0.9761904761904762\", hits_at_500_1-\"N\": \"0.9653492149431511\", hits_at_500_M-\"1\": \"0.9707218576476527\", hits_at_500_M-\"N\": \"0.9610619469026549\", \"hits_at_500_filtered\": \"0.9677\", hits_at_500_filtered_1-\"1\": \"0.9761904761904762\", hits_at_500_filtered_1-\"N\": \"0.9672441797509476\", hits_at_500_filtered_M-\"1\": \"0.9717314487632509\", hits_at_500_filtered_M-\"N\": \"0.9610619469026549\", hits_at_50_1-\"1\": \"0.9761904761904762\", hits_at_50_1-\"N\": \"0.89550622631294\", hits_at_50_M-\"1\": \"0.8975265017667844\", hits_at_50_M-\"N\": \"0.9553097345132743\", \"hits_at_50_filtered\": \"0.9601000000000001\", hits_at_50_filtered_1-\"1\": \"0.9761904761904762\", hits_at_50_filtered_1-\"N\": \"0.9585814834867353\", hits_at_50_filtered_M-\"1\": \"0.9639071176173649\", hits_at_50_filtered_M-\"N\": \"0.9553097345132743\", \"job\": \"eval\", \"job_id\": \"cceea1af-3a0d-44b5-a99d-fdbf3ee83fc4\", \"mean_rank\": \"494.5199\", mean_rank_1-\"1\": \"230.51190476190476\", mean_rank_1-\"N\": \"526.3803465078506\", mean_rank_M-\"1\": \"469.6680969207471\", mean_rank_M-\"N\": \"495.82389380530975\", \"mean_rank_filtered\": \"481.9596\", mean_rank_filtered_1-\"1\": \"230.17857142857142\", mean_rank_filtered_1-\"N\": \"510.7079047103411\", mean_rank_filtered_M-\"1\": \"453.59313478041395\", mean_rank_filtered_M-\"N\": \"494.0575221238938\", \"mean_reciprocal_rank\": \"0.573119482421875\", mean_reciprocal_rank_1-\"1\": \"0.8333358764648438\", mean_reciprocal_rank_1-\"N\": \"0.5914521436789388\", mean_reciprocal_rank_M-\"1\": \"0.5878912412055148\", mean_reciprocal_rank_M-\"N\": \"0.5075863998548119\", \"mean_reciprocal_rank_filtered\": \"0.9493810546875\", mean_reciprocal_rank_filtered_1-\"1\": \"0.9761930193219867\", mean_reciprocal_rank_filtered_1-\"N\": \"0.9500156107243165\", mean_reciprocal_rank_filtered_M-\"1\": \"0.952060135249716\", mean_reciprocal_rank_filtered_M-\"N\": \"0.9426506109997235\", \"mean_reciprocal_rank_filtered_with_test\": \".nan\", \"num_parameters\": \"20981248\", \"resumed_from_job_id\": \"217b38bf-60c1-4bce-af27-1bead1db682d\", \"scope\": \"epoch\", \"size\": \"5000\", \"split\": \"test\", \"timestamp\": \"1649661186.3832827\", \"type\": \"entity_ranking\"}\n",
      "\n",
      "experiments\\wn18_complex_5\\test_results\\trace.yaml...\n",
      "Couldn't process line: \n",
      "{\"batches\": \"20\", \"entry_id\": \"d2e0e9e8-2a36-4a75-9a52-ca5ff19564ab\", \"epoch\": \"260\", \"epoch_time\": \"34.42354345321655\", \"event\": \"eval_completed\", \"filter_splits\": [\"train\", \"valid\", \"test\"], \"hits_at_1\": \"0.4509\", \"hits_at_10\": \"0.8071\", \"hits_at_100\": \"0.9303\", \"hits_at_1000\": \"0.9732000000000001\", hits_at_1000_1-\"1\": \"0.9761904761904762\", hits_at_1000_1-\"N\": \"0.9726583649160802\", hits_at_1000_M-\"1\": \"0.9757698132256436\", hits_at_1000_M-\"N\": \"0.9694690265486725\", \"hits_at_1000_filtered\": \"0.9734\", hits_at_1000_filtered_1-\"1\": \"0.9761904761904762\", hits_at_1000_filtered_1-\"N\": \"0.9726583649160802\", hits_at_1000_filtered_M-\"1\": \"0.9762746087834427\", hits_at_1000_filtered_M-\"N\": \"0.9694690265486725\", hits_at_100_1-\"1\": \"0.9761904761904762\", hits_at_100_1-\"N\": \"0.9174336762317271\", hits_at_100_M-\"1\": \"0.9242806663301363\", hits_at_100_M-\"N\": \"0.9601769911504424\", \"hits_at_100_filtered\": \"0.9640000000000001\", hits_at_100_filtered_1-\"1\": \"0.9761904761904762\", hits_at_100_filtered_1-\"N\": \"0.9626421223605848\", hits_at_100_filtered_M-\"1\": \"0.9671882887430591\", hits_at_100_filtered_M-\"N\": \"0.9601769911504424\", hits_at_10_1-\"1\": \"0.9761904761904762\", hits_at_10_1-\"N\": \"0.765836491608013\", hits_at_10_M-\"1\": \"0.762241292276628\", hits_at_10_M-\"N\": \"0.9469026548672567\", \"hits_at_10_filtered\": \"0.9574\", hits_at_10_filtered_1-\"1\": \"0.9761904761904762\", hits_at_10_filtered_1-\"N\": \"0.9572279371954521\", hits_at_10_filtered_M-\"1\": \"0.9606259464916709\", hits_at_10_filtered_M-\"N\": \"0.9513274336283186\", hits_at_1_1-\"1\": \"0.7023809523809523\", hits_at_1_1-\"N\": \"0.5024363833243097\", hits_at_1_M-\"1\": \"0.5017667844522968\", hits_at_1_M-\"N\": \"0.268141592920354\", \"hits_at_1_filtered\": \"0.9459000000000001\", hits_at_1_filtered_1-\"1\": \"0.9761904761904762\", hits_at_1_filtered_1-\"N\": \"0.9472116946399567\", hits_at_1_filtered_M-\"1\": \"0.950530035335689\", hits_at_1_filtered_M-\"N\": \"0.9345132743362832\", \"hits_at_200\": \"0.9486\", hits_at_200_1-\"1\": \"0.9761904761904762\", hits_at_200_1-\"N\": \"0.9401732539252843\", hits_at_200_M-\"1\": \"0.9462392730943967\", hits_at_200_M-\"N\": \"0.9654867256637168\", \"hits_at_200_filtered\": \"0.9667\", hits_at_200_filtered_1-\"1\": \"0.9761904761904762\", hits_at_200_filtered_1-\"N\": \"0.9650785056848945\", hits_at_200_filtered_M-\"1\": \"0.9687026754164563\", hits_at_200_filtered_M-\"N\": \"0.9654867256637168\", \"hits_at_3\": \"0.6464000000000001\", \"hits_at_300\": \"0.9606\", hits_at_300_1-\"1\": \"0.9761904761904762\", hits_at_300_1-\"N\": \"0.955062263129399\", hits_at_300_M-\"1\": \"0.9621403331650681\", hits_at_300_M-\"N\": \"0.9663716814159292\", \"hits_at_300_filtered\": \"0.9676\", hits_at_300_filtered_1-\"1\": \"0.9761904761904762\", hits_at_300_filtered_1-\"N\": \"0.9658906334596643\", hits_at_300_filtered_M-\"1\": \"0.9697122665320546\", hits_at_300_filtered_M-\"N\": \"0.9663716814159292\", hits_at_3_1-\"1\": \"0.9523809523809523\", hits_at_3_1-\"N\": \"0.6304818624796968\", hits_at_3_M-\"1\": \"0.624432104997476\", hits_at_3_M-\"N\": \"0.6995575221238938\", \"hits_at_3_filtered\": \"0.9534\", hits_at_3_filtered_1-\"1\": \"0.9761904761904762\", hits_at_3_filtered_1-\"N\": \"0.952896589063346\", hits_at_3_filtered_M-\"1\": \"0.9563351842503786\", hits_at_3_filtered_M-\"N\": \"0.9482300884955752\", \"hits_at_400\": \"0.9654\", hits_at_400_1-\"1\": \"0.9761904761904762\", hits_at_400_1-\"N\": \"0.9615592853275582\", hits_at_400_M-\"1\": \"0.9676930843008581\", hits_at_400_M-\"N\": \"0.9672566371681416\", \"hits_at_400_filtered\": \"0.9692000000000001\", hits_at_400_filtered_1-\"1\": \"0.9761904761904762\", hits_at_400_filtered_1-\"N\": \"0.9675148890092041\", hits_at_400_filtered_M-\"1\": \"0.9717314487632509\", hits_at_400_filtered_M-\"N\": \"0.9672566371681416\", \"hits_at_50\": \"0.9087000000000001\", \"hits_at_500\": \"0.9694\", hits_at_500_1-\"1\": \"0.9761904761904762\", hits_at_500_1-\"N\": \"0.9677855982674608\", hits_at_500_M-\"1\": \"0.9719838465421504\", hits_at_500_M-\"N\": \"0.9672566371681416\", \"hits_at_500_filtered\": \"0.9705\", hits_at_500_filtered_1-\"1\": \"0.9761904761904762\", hits_at_500_filtered_1-\"N\": \"0.9694098538170006\", hits_at_500_filtered_M-\"1\": \"0.9732458354366481\", hits_at_500_filtered_M-\"N\": \"0.9672566371681416\", hits_at_50_1-\"1\": \"0.9761904761904762\", hits_at_50_1-\"N\": \"0.8911748781808339\", hits_at_50_M-\"1\": \"0.8952549217566885\", hits_at_50_M-\"N\": \"0.9584070796460177\", \"hits_at_50_filtered\": \"0.9623\", hits_at_50_filtered_1-\"1\": \"0.9761904761904762\", hits_at_50_filtered_1-\"N\": \"0.961017866811045\", hits_at_50_filtered_M-\"1\": \"0.9654215042907622\", hits_at_50_filtered_M-\"N\": \"0.9584070796460177\", \"job\": \"eval\", \"job_id\": \"384c889a-c444-4bbf-9a11-8ba7bdf90d61\", \"mean_rank\": \"434.0873\", mean_rank_1-\"1\": \"355.89285714285717\", mean_rank_1-\"N\": \"435.45587439090417\", mean_rank_M-\"1\": \"383.6587582029278\", mean_rank_M-\"N\": \"523.1628318584071\", \"mean_rank_filtered\": \"420.6676\", mean_rank_filtered_1-\"1\": \"355.5595238095238\", mean_rank_filtered_1-\"N\": \"418.1567406605306\", mean_rank_filtered_M-\"1\": \"366.93160020191823\", mean_rank_filtered_M-\"N\": \"521.3960176991151\", \"mean_reciprocal_rank\": \"0.5723814453125\", mean_reciprocal_rank_1-\"1\": \"0.83333496820359\", mean_reciprocal_rank_1-\"N\": \"0.5902384462134542\", mean_reciprocal_rank_M-\"1\": \"0.5873804068336699\", mean_reciprocal_rank_M-\"N\": \"0.5072001499412334\", \"mean_reciprocal_rank_filtered\": \"0.9501515625\", mean_reciprocal_rank_filtered_1-\"1\": \"0.9761921110607329\", mean_reciprocal_rank_filtered_1-\"N\": \"0.9505433483774364\", mean_reciprocal_rank_filtered_M-\"1\": \"0.9541234994163301\", mean_reciprocal_rank_filtered_M-\"N\": \"0.9415807133227323\", \"mean_reciprocal_rank_filtered_with_test\": \".nan\", \"num_parameters\": \"20981248\", \"resumed_from_job_id\": \"1118b5ee-f67b-418e-a429-e3e0d8db2632\", \"scope\": \"epoch\", \"size\": \"5000\", \"split\": \"test\", \"timestamp\": \"1649661237.320003\", \"type\": \"entity_ranking\"}\n",
      "\n",
      "                                        h                         r         t  \\\n",
      "h_id  r_id t_id  predicted_head                                                 \n",
      "550   12   13179 0                6845599   _member_of_domain_usage   3754979   \n",
      "                 1                6845599   _member_of_domain_usage   3754979   \n",
      "21334 16   27997 0                 789448               _verb_group   1062739   \n",
      "                 1                 789448               _verb_group   1062739   \n",
      "19840 0    32348 0               10217831                  _hyponym  10682169   \n",
      "                 1               10217831                  _hyponym  10682169   \n",
      "1080  13   29870 0                8860123  _member_of_domain_region   5688486   \n",
      "                 1                8860123  _member_of_domain_region   5688486   \n",
      "17995 6    32531 0                2233096           _member_meronym   2233338   \n",
      "                 1                2233096           _member_meronym   2233338   \n",
      "\n",
      "                                 rank_filtered  rank_filtered_0  \\\n",
      "h_id  r_id t_id  predicted_head                                   \n",
      "550   12   13179 0                           1                1   \n",
      "                 1                           1                1   \n",
      "21334 16   27997 0                           1                1   \n",
      "                 1                           1                1   \n",
      "19840 0    32348 0                           1                1   \n",
      "                 1                           1                1   \n",
      "1080  13   29870 0                           1                1   \n",
      "                 1                           1                1   \n",
      "17995 6    32531 0                           1                1   \n",
      "                 1                           1                1   \n",
      "\n",
      "                                 rank_filtered_1  rank_filtered_2  \\\n",
      "h_id  r_id t_id  predicted_head                                     \n",
      "550   12   13179 0                             1                1   \n",
      "                 1                             1                1   \n",
      "21334 16   27997 0                             1                1   \n",
      "                 1                             1                1   \n",
      "19840 0    32348 0                             1                1   \n",
      "                 1                             1                1   \n",
      "1080  13   29870 0                             1                1   \n",
      "                 1                             1                1   \n",
      "17995 6    32531 0                             1                1   \n",
      "                 1                             1                1   \n",
      "\n",
      "                                 rank_filtered_3  rank_filtered_4  \n",
      "h_id  r_id t_id  predicted_head                                    \n",
      "550   12   13179 0                             1                1  \n",
      "                 1                             1                1  \n",
      "21334 16   27997 0                             1                1  \n",
      "                 1                             1                1  \n",
      "19840 0    32348 0                             1                1  \n",
      "                 1                             1                1  \n",
      "1080  13   29870 0                             1                1  \n",
      "                 1                             1                1  \n",
      "17995 6    32531 0                             1                1  \n",
      "                 1                             1                1  \n",
      "libkge done\n",
      "anyburl...\n",
      "                                        h                         r         t  \\\n",
      "h_id  r_id t_id  predicted_head                                                 \n",
      "21334 16   27997 True            00789448               _verb_group  01062739   \n",
      "                 False           00789448               _verb_group  01062739   \n",
      "550   12   13179 True            06845599   _member_of_domain_usage  03754979   \n",
      "                 False           06845599   _member_of_domain_usage  03754979   \n",
      "1080  13   29870 True            08860123  _member_of_domain_region  05688486   \n",
      "                 False           08860123  _member_of_domain_region  05688486   \n",
      "29076 8    10654 True            01459242                  _part_of  01461646   \n",
      "                 False           01459242                  _part_of  01461646   \n",
      "8057  8    3576  True            03902220                  _part_of  03918480   \n",
      "                 False           03902220                  _part_of  03918480   \n",
      "\n",
      "                                rank_filtered  \n",
      "h_id  r_id t_id  predicted_head                \n",
      "21334 16   27997 True                       1  \n",
      "                 False                      1  \n",
      "550   12   13179 True                       1  \n",
      "                 False                      1  \n",
      "1080  13   29870 True                       1  \n",
      "                 False                      1  \n",
      "29076 8    10654 True                       1  \n",
      "                 False                      1  \n",
      "8057  8    3576  True                       1  \n",
      "                 False                      1  \n",
      "anyburl done\n",
      "                               rank_filtered_anyburl   h    r   t  \\\n",
      "h_id r_id t_id  predicted_head                                      \n",
      "6    0    2272  False                              1 NaN  NaN NaN   \n",
      "                True                               1 NaN  NaN NaN   \n",
      "          11182 False                              1 NaN  NaN NaN   \n",
      "                True                               1 NaN  NaN NaN   \n",
      "7    0    17644 False                              1 NaN  NaN NaN   \n",
      "                True                               1 NaN  NaN NaN   \n",
      "          19822 False                              1 NaN  NaN NaN   \n",
      "                True                               1 NaN  NaN NaN   \n",
      "11   9    12343 False                           None NaN  NaN NaN   \n",
      "                True                              25 NaN  NaN NaN   \n",
      "\n",
      "                                rank_filtered_kge  rank_filtered_0  \\\n",
      "h_id r_id t_id  predicted_head                                       \n",
      "6    0    2272  False                         NaN              NaN   \n",
      "                True                          NaN              NaN   \n",
      "          11182 False                         NaN              NaN   \n",
      "                True                          NaN              NaN   \n",
      "7    0    17644 False                         NaN              NaN   \n",
      "                True                          NaN              NaN   \n",
      "          19822 False                         NaN              NaN   \n",
      "                True                          NaN              NaN   \n",
      "11   9    12343 False                         NaN              NaN   \n",
      "                True                          NaN              NaN   \n",
      "\n",
      "                                rank_filtered_1  rank_filtered_2  \\\n",
      "h_id r_id t_id  predicted_head                                     \n",
      "6    0    2272  False                       NaN              NaN   \n",
      "                True                        NaN              NaN   \n",
      "          11182 False                       NaN              NaN   \n",
      "                True                        NaN              NaN   \n",
      "7    0    17644 False                       NaN              NaN   \n",
      "                True                        NaN              NaN   \n",
      "          19822 False                       NaN              NaN   \n",
      "                True                        NaN              NaN   \n",
      "11   9    12343 False                       NaN              NaN   \n",
      "                True                        NaN              NaN   \n",
      "\n",
      "                                rank_filtered_3  rank_filtered_4  \n",
      "h_id r_id t_id  predicted_head                                    \n",
      "6    0    2272  False                       NaN              NaN  \n",
      "                True                        NaN              NaN  \n",
      "          11182 False                       NaN              NaN  \n",
      "                True                        NaN              NaN  \n",
      "7    0    17644 False                       NaN              NaN  \n",
      "                True                        NaN              NaN  \n",
      "          19822 False                       NaN              NaN  \n",
      "                True                        NaN              NaN  \n",
      "11   9    12343 False                       NaN              NaN  \n",
      "                True                        NaN              NaN  \n"
     ]
    },
    {
     "data": {
      "text/html": [
       "<div>\n",
       "<style scoped>\n",
       "    .dataframe tbody tr th:only-of-type {\n",
       "        vertical-align: middle;\n",
       "    }\n",
       "\n",
       "    .dataframe tbody tr th {\n",
       "        vertical-align: top;\n",
       "    }\n",
       "\n",
       "    .dataframe thead th {\n",
       "        text-align: right;\n",
       "    }\n",
       "</style>\n",
       "<table border=\"1\" class=\"dataframe\">\n",
       "  <thead>\n",
       "    <tr style=\"text-align: right;\">\n",
       "      <th></th>\n",
       "      <th>h_id</th>\n",
       "      <th>r_id</th>\n",
       "      <th>t_id</th>\n",
       "      <th>predicted_head</th>\n",
       "      <th>rank_filtered_anyburl</th>\n",
       "      <th>h</th>\n",
       "      <th>r</th>\n",
       "      <th>t</th>\n",
       "      <th>rank_filtered_kge</th>\n",
       "      <th>rank_filtered_0</th>\n",
       "      <th>rank_filtered_1</th>\n",
       "      <th>rank_filtered_2</th>\n",
       "      <th>rank_filtered_3</th>\n",
       "      <th>rank_filtered_4</th>\n",
       "    </tr>\n",
       "  </thead>\n",
       "  <tbody>\n",
       "    <tr>\n",
       "      <th>0</th>\n",
       "      <td>6</td>\n",
       "      <td>0</td>\n",
       "      <td>2272</td>\n",
       "      <td>False</td>\n",
       "      <td>1</td>\n",
       "      <td>NaN</td>\n",
       "      <td>NaN</td>\n",
       "      <td>NaN</td>\n",
       "      <td>NaN</td>\n",
       "      <td>NaN</td>\n",
       "      <td>NaN</td>\n",
       "      <td>NaN</td>\n",
       "      <td>NaN</td>\n",
       "      <td>NaN</td>\n",
       "    </tr>\n",
       "    <tr>\n",
       "      <th>1</th>\n",
       "      <td>6</td>\n",
       "      <td>0</td>\n",
       "      <td>2272</td>\n",
       "      <td>True</td>\n",
       "      <td>1</td>\n",
       "      <td>NaN</td>\n",
       "      <td>NaN</td>\n",
       "      <td>NaN</td>\n",
       "      <td>NaN</td>\n",
       "      <td>NaN</td>\n",
       "      <td>NaN</td>\n",
       "      <td>NaN</td>\n",
       "      <td>NaN</td>\n",
       "      <td>NaN</td>\n",
       "    </tr>\n",
       "    <tr>\n",
       "      <th>2</th>\n",
       "      <td>6</td>\n",
       "      <td>0</td>\n",
       "      <td>11182</td>\n",
       "      <td>False</td>\n",
       "      <td>1</td>\n",
       "      <td>NaN</td>\n",
       "      <td>NaN</td>\n",
       "      <td>NaN</td>\n",
       "      <td>NaN</td>\n",
       "      <td>NaN</td>\n",
       "      <td>NaN</td>\n",
       "      <td>NaN</td>\n",
       "      <td>NaN</td>\n",
       "      <td>NaN</td>\n",
       "    </tr>\n",
       "    <tr>\n",
       "      <th>3</th>\n",
       "      <td>6</td>\n",
       "      <td>0</td>\n",
       "      <td>11182</td>\n",
       "      <td>True</td>\n",
       "      <td>1</td>\n",
       "      <td>NaN</td>\n",
       "      <td>NaN</td>\n",
       "      <td>NaN</td>\n",
       "      <td>NaN</td>\n",
       "      <td>NaN</td>\n",
       "      <td>NaN</td>\n",
       "      <td>NaN</td>\n",
       "      <td>NaN</td>\n",
       "      <td>NaN</td>\n",
       "    </tr>\n",
       "    <tr>\n",
       "      <th>4</th>\n",
       "      <td>7</td>\n",
       "      <td>0</td>\n",
       "      <td>17644</td>\n",
       "      <td>False</td>\n",
       "      <td>1</td>\n",
       "      <td>NaN</td>\n",
       "      <td>NaN</td>\n",
       "      <td>NaN</td>\n",
       "      <td>NaN</td>\n",
       "      <td>NaN</td>\n",
       "      <td>NaN</td>\n",
       "      <td>NaN</td>\n",
       "      <td>NaN</td>\n",
       "      <td>NaN</td>\n",
       "    </tr>\n",
       "    <tr>\n",
       "      <th>5</th>\n",
       "      <td>7</td>\n",
       "      <td>0</td>\n",
       "      <td>17644</td>\n",
       "      <td>True</td>\n",
       "      <td>1</td>\n",
       "      <td>NaN</td>\n",
       "      <td>NaN</td>\n",
       "      <td>NaN</td>\n",
       "      <td>NaN</td>\n",
       "      <td>NaN</td>\n",
       "      <td>NaN</td>\n",
       "      <td>NaN</td>\n",
       "      <td>NaN</td>\n",
       "      <td>NaN</td>\n",
       "    </tr>\n",
       "    <tr>\n",
       "      <th>6</th>\n",
       "      <td>7</td>\n",
       "      <td>0</td>\n",
       "      <td>19822</td>\n",
       "      <td>False</td>\n",
       "      <td>1</td>\n",
       "      <td>NaN</td>\n",
       "      <td>NaN</td>\n",
       "      <td>NaN</td>\n",
       "      <td>NaN</td>\n",
       "      <td>NaN</td>\n",
       "      <td>NaN</td>\n",
       "      <td>NaN</td>\n",
       "      <td>NaN</td>\n",
       "      <td>NaN</td>\n",
       "    </tr>\n",
       "    <tr>\n",
       "      <th>7</th>\n",
       "      <td>7</td>\n",
       "      <td>0</td>\n",
       "      <td>19822</td>\n",
       "      <td>True</td>\n",
       "      <td>1</td>\n",
       "      <td>NaN</td>\n",
       "      <td>NaN</td>\n",
       "      <td>NaN</td>\n",
       "      <td>NaN</td>\n",
       "      <td>NaN</td>\n",
       "      <td>NaN</td>\n",
       "      <td>NaN</td>\n",
       "      <td>NaN</td>\n",
       "      <td>NaN</td>\n",
       "    </tr>\n",
       "    <tr>\n",
       "      <th>8</th>\n",
       "      <td>11</td>\n",
       "      <td>9</td>\n",
       "      <td>12343</td>\n",
       "      <td>False</td>\n",
       "      <td>None</td>\n",
       "      <td>NaN</td>\n",
       "      <td>NaN</td>\n",
       "      <td>NaN</td>\n",
       "      <td>NaN</td>\n",
       "      <td>NaN</td>\n",
       "      <td>NaN</td>\n",
       "      <td>NaN</td>\n",
       "      <td>NaN</td>\n",
       "      <td>NaN</td>\n",
       "    </tr>\n",
       "    <tr>\n",
       "      <th>9</th>\n",
       "      <td>11</td>\n",
       "      <td>9</td>\n",
       "      <td>12343</td>\n",
       "      <td>True</td>\n",
       "      <td>25</td>\n",
       "      <td>NaN</td>\n",
       "      <td>NaN</td>\n",
       "      <td>NaN</td>\n",
       "      <td>NaN</td>\n",
       "      <td>NaN</td>\n",
       "      <td>NaN</td>\n",
       "      <td>NaN</td>\n",
       "      <td>NaN</td>\n",
       "      <td>NaN</td>\n",
       "    </tr>\n",
       "  </tbody>\n",
       "</table>\n",
       "</div>"
      ],
      "text/plain": [
       "   h_id  r_id   t_id  predicted_head rank_filtered_anyburl   h    r   t  \\\n",
       "0     6     0   2272           False                     1 NaN  NaN NaN   \n",
       "1     6     0   2272            True                     1 NaN  NaN NaN   \n",
       "2     6     0  11182           False                     1 NaN  NaN NaN   \n",
       "3     6     0  11182            True                     1 NaN  NaN NaN   \n",
       "4     7     0  17644           False                     1 NaN  NaN NaN   \n",
       "5     7     0  17644            True                     1 NaN  NaN NaN   \n",
       "6     7     0  19822           False                     1 NaN  NaN NaN   \n",
       "7     7     0  19822            True                     1 NaN  NaN NaN   \n",
       "8    11     9  12343           False                  None NaN  NaN NaN   \n",
       "9    11     9  12343            True                    25 NaN  NaN NaN   \n",
       "\n",
       "   rank_filtered_kge  rank_filtered_0  rank_filtered_1  rank_filtered_2  \\\n",
       "0                NaN              NaN              NaN              NaN   \n",
       "1                NaN              NaN              NaN              NaN   \n",
       "2                NaN              NaN              NaN              NaN   \n",
       "3                NaN              NaN              NaN              NaN   \n",
       "4                NaN              NaN              NaN              NaN   \n",
       "5                NaN              NaN              NaN              NaN   \n",
       "6                NaN              NaN              NaN              NaN   \n",
       "7                NaN              NaN              NaN              NaN   \n",
       "8                NaN              NaN              NaN              NaN   \n",
       "9                NaN              NaN              NaN              NaN   \n",
       "\n",
       "   rank_filtered_3  rank_filtered_4  \n",
       "0              NaN              NaN  \n",
       "1              NaN              NaN  \n",
       "2              NaN              NaN  \n",
       "3              NaN              NaN  \n",
       "4              NaN              NaN  \n",
       "5              NaN              NaN  \n",
       "6              NaN              NaN  \n",
       "7              NaN              NaN  \n",
       "8              NaN              NaN  \n",
       "9              NaN              NaN  "
      ]
     },
     "execution_count": 13,
     "metadata": {},
     "output_type": "execute_result"
    }
   ],
   "source": [
    "df = get_prediction_data(dataset_name, symbolic, subsymbolic)\n",
    "df.head(10)"
   ]
  },
  {
   "cell_type": "code",
   "execution_count": 14,
   "id": "446f1c48-b3c3-4135-a803-46c07bf62f14",
   "metadata": {},
   "outputs": [
    {
     "data": {
      "text/html": [
       "<div>\n",
       "<style scoped>\n",
       "    .dataframe tbody tr th:only-of-type {\n",
       "        vertical-align: middle;\n",
       "    }\n",
       "\n",
       "    .dataframe tbody tr th {\n",
       "        vertical-align: top;\n",
       "    }\n",
       "\n",
       "    .dataframe thead th {\n",
       "        text-align: right;\n",
       "    }\n",
       "</style>\n",
       "<table border=\"1\" class=\"dataframe\">\n",
       "  <thead>\n",
       "    <tr style=\"text-align: right;\">\n",
       "      <th></th>\n",
       "      <th>h_id</th>\n",
       "      <th>r_id</th>\n",
       "      <th>t_id</th>\n",
       "      <th>predicted_head</th>\n",
       "      <th>rank_filtered_anyburl</th>\n",
       "      <th>rank_filtered_kge</th>\n",
       "    </tr>\n",
       "  </thead>\n",
       "  <tbody>\n",
       "    <tr>\n",
       "      <th>0</th>\n",
       "      <td>6</td>\n",
       "      <td>0</td>\n",
       "      <td>2272</td>\n",
       "      <td>False</td>\n",
       "      <td>1</td>\n",
       "      <td>NaN</td>\n",
       "    </tr>\n",
       "    <tr>\n",
       "      <th>1</th>\n",
       "      <td>6</td>\n",
       "      <td>0</td>\n",
       "      <td>2272</td>\n",
       "      <td>True</td>\n",
       "      <td>1</td>\n",
       "      <td>NaN</td>\n",
       "    </tr>\n",
       "    <tr>\n",
       "      <th>2</th>\n",
       "      <td>6</td>\n",
       "      <td>0</td>\n",
       "      <td>11182</td>\n",
       "      <td>False</td>\n",
       "      <td>1</td>\n",
       "      <td>NaN</td>\n",
       "    </tr>\n",
       "    <tr>\n",
       "      <th>3</th>\n",
       "      <td>6</td>\n",
       "      <td>0</td>\n",
       "      <td>11182</td>\n",
       "      <td>True</td>\n",
       "      <td>1</td>\n",
       "      <td>NaN</td>\n",
       "    </tr>\n",
       "    <tr>\n",
       "      <th>4</th>\n",
       "      <td>7</td>\n",
       "      <td>0</td>\n",
       "      <td>17644</td>\n",
       "      <td>False</td>\n",
       "      <td>1</td>\n",
       "      <td>NaN</td>\n",
       "    </tr>\n",
       "    <tr>\n",
       "      <th>5</th>\n",
       "      <td>7</td>\n",
       "      <td>0</td>\n",
       "      <td>17644</td>\n",
       "      <td>True</td>\n",
       "      <td>1</td>\n",
       "      <td>NaN</td>\n",
       "    </tr>\n",
       "    <tr>\n",
       "      <th>6</th>\n",
       "      <td>7</td>\n",
       "      <td>0</td>\n",
       "      <td>19822</td>\n",
       "      <td>False</td>\n",
       "      <td>1</td>\n",
       "      <td>NaN</td>\n",
       "    </tr>\n",
       "    <tr>\n",
       "      <th>7</th>\n",
       "      <td>7</td>\n",
       "      <td>0</td>\n",
       "      <td>19822</td>\n",
       "      <td>True</td>\n",
       "      <td>1</td>\n",
       "      <td>NaN</td>\n",
       "    </tr>\n",
       "    <tr>\n",
       "      <th>8</th>\n",
       "      <td>11</td>\n",
       "      <td>9</td>\n",
       "      <td>12343</td>\n",
       "      <td>False</td>\n",
       "      <td>None</td>\n",
       "      <td>NaN</td>\n",
       "    </tr>\n",
       "    <tr>\n",
       "      <th>9</th>\n",
       "      <td>11</td>\n",
       "      <td>9</td>\n",
       "      <td>12343</td>\n",
       "      <td>True</td>\n",
       "      <td>25</td>\n",
       "      <td>NaN</td>\n",
       "    </tr>\n",
       "  </tbody>\n",
       "</table>\n",
       "</div>"
      ],
      "text/plain": [
       "   h_id  r_id   t_id  predicted_head rank_filtered_anyburl  rank_filtered_kge\n",
       "0     6     0   2272           False                     1                NaN\n",
       "1     6     0   2272            True                     1                NaN\n",
       "2     6     0  11182           False                     1                NaN\n",
       "3     6     0  11182            True                     1                NaN\n",
       "4     7     0  17644           False                     1                NaN\n",
       "5     7     0  17644            True                     1                NaN\n",
       "6     7     0  19822           False                     1                NaN\n",
       "7     7     0  19822            True                     1                NaN\n",
       "8    11     9  12343           False                  None                NaN\n",
       "9    11     9  12343            True                    25                NaN"
      ]
     },
     "execution_count": 14,
     "metadata": {},
     "output_type": "execute_result"
    }
   ],
   "source": [
    "df = df[['h_id', 'r_id', 't_id', 'predicted_head', 'rank_filtered_anyburl', 'rank_filtered_kge']]\n",
    "df.head(10)"
   ]
  },
  {
   "cell_type": "markdown",
   "id": "60caca69-b6d0-4ca5-911b-60a3c34999cd",
   "metadata": {
    "tags": []
   },
   "source": [
    "## drop NAs (why are there NAs at all?)"
   ]
  },
  {
   "cell_type": "code",
   "execution_count": 15,
   "id": "958de3ac-876a-4fcb-83aa-d99e20bd4808",
   "metadata": {},
   "outputs": [
    {
     "data": {
      "text/plain": [
       "10000"
      ]
     },
     "execution_count": 15,
     "metadata": {},
     "output_type": "execute_result"
    }
   ],
   "source": [
    "len(df)"
   ]
  },
  {
   "cell_type": "code",
   "execution_count": 16,
   "id": "76b4c80e-dd30-425e-bda5-0ee802f53ac7",
   "metadata": {},
   "outputs": [
    {
     "data": {
      "text/plain": [
       "217"
      ]
     },
     "execution_count": 16,
     "metadata": {},
     "output_type": "execute_result"
    }
   ],
   "source": [
    "df['rank_filtered_anyburl'].isnull().sum()"
   ]
  },
  {
   "cell_type": "code",
   "execution_count": 17,
   "id": "1f2c5afc-2ae4-4e14-8f1d-6dc3bfd9c45a",
   "metadata": {},
   "outputs": [
    {
     "data": {
      "text/plain": [
       "10000"
      ]
     },
     "execution_count": 17,
     "metadata": {},
     "output_type": "execute_result"
    }
   ],
   "source": [
    "df['rank_filtered_kge'].isnull().sum()"
   ]
  },
  {
   "cell_type": "code",
   "execution_count": 18,
   "id": "c36fcb13-041c-49be-9e63-a1ffe488205d",
   "metadata": {},
   "outputs": [],
   "source": [
    "df = df.dropna()"
   ]
  },
  {
   "cell_type": "code",
   "execution_count": 19,
   "id": "ae69fe61-2906-43f2-9156-a161e2a1bb92",
   "metadata": {},
   "outputs": [
    {
     "data": {
      "text/plain": [
       "0"
      ]
     },
     "execution_count": 19,
     "metadata": {},
     "output_type": "execute_result"
    }
   ],
   "source": [
    "len(df)"
   ]
  },
  {
   "cell_type": "markdown",
   "id": "b5ce4186-6b4b-450b-9c5e-8b8a335a5654",
   "metadata": {
    "tags": []
   },
   "source": [
    "# Analysis"
   ]
  },
  {
   "cell_type": "markdown",
   "id": "35193765-a320-4613-a9b5-bcc5a972f087",
   "metadata": {},
   "source": [
    "## create PDF"
   ]
  },
  {
   "cell_type": "code",
   "execution_count": 20,
   "id": "68563a1f-1574-4fee-81fb-d3807c7568a5",
   "metadata": {},
   "outputs": [],
   "source": [
    "pdf = PdfPages(f'analysis_for_{get_formatted_data_name(dataset_name, symbolic, subsymbolic)[0:-4]}.pdf')"
   ]
  },
  {
   "cell_type": "markdown",
   "id": "09c87c3f-2fc5-413c-9fe0-2186d6929465",
   "metadata": {},
   "source": [
    "## show graphs"
   ]
  },
  {
   "cell_type": "code",
   "execution_count": 21,
   "id": "5ad131a5-a380-4d6b-8b04-dec02dac88b8",
   "metadata": {},
   "outputs": [
    {
     "data": {
      "image/png": "[encoded data removed]",
      "text/plain": [
       "<Figure size 2000x1500 with 1 Axes>"
      ]
     },
     "metadata": {
      "needs_background": "light"
     },
     "output_type": "display_data"
    },
    {
     "data": {
      "image/png": "[encoded data removed]",
      "text/plain": [
       "<Figure size 2000x1500 with 2 Axes>"
      ]
     },
     "metadata": {
      "needs_background": "light"
     },
     "output_type": "display_data"
    },
    {
     "ename": "ValueError",
     "evalue": "Expected a 1D array, got an array with shape (0, 7)",
     "output_type": "error",
     "traceback": [
      "\u001b[1;31m---------------------------------------------------------------------------\u001b[0m",
      "\u001b[1;31mKeyError\u001b[0m                                  Traceback (most recent call last)",
      "File \u001b[1;32m~\\anaconda3\\envs\\thesis\\lib\\site-packages\\pandas\\core\\indexes\\base.py:3621\u001b[0m, in \u001b[0;36mIndex.get_loc\u001b[1;34m(self, key, method, tolerance)\u001b[0m\n\u001b[0;32m   3620\u001b[0m \u001b[38;5;28;01mtry\u001b[39;00m:\n\u001b[1;32m-> 3621\u001b[0m     \u001b[38;5;28;01mreturn\u001b[39;00m \u001b[38;5;28;43mself\u001b[39;49m\u001b[38;5;241;43m.\u001b[39;49m\u001b[43m_engine\u001b[49m\u001b[38;5;241;43m.\u001b[39;49m\u001b[43mget_loc\u001b[49m\u001b[43m(\u001b[49m\u001b[43mcasted_key\u001b[49m\u001b[43m)\u001b[49m\n\u001b[0;32m   3622\u001b[0m \u001b[38;5;28;01mexcept\u001b[39;00m \u001b[38;5;167;01mKeyError\u001b[39;00m \u001b[38;5;28;01mas\u001b[39;00m err:\n",
      "File \u001b[1;32m~\\anaconda3\\envs\\thesis\\lib\\site-packages\\pandas\\_libs\\index.pyx:136\u001b[0m, in \u001b[0;36mpandas._libs.index.IndexEngine.get_loc\u001b[1;34m()\u001b[0m\n",
      "File \u001b[1;32m~\\anaconda3\\envs\\thesis\\lib\\site-packages\\pandas\\_libs\\index.pyx:163\u001b[0m, in \u001b[0;36mpandas._libs.index.IndexEngine.get_loc\u001b[1;34m()\u001b[0m\n",
      "File \u001b[1;32mpandas\\_libs\\hashtable_class_helper.pxi:5198\u001b[0m, in \u001b[0;36mpandas._libs.hashtable.PyObjectHashTable.get_item\u001b[1;34m()\u001b[0m\n",
      "File \u001b[1;32mpandas\\_libs\\hashtable_class_helper.pxi:5206\u001b[0m, in \u001b[0;36mpandas._libs.hashtable.PyObjectHashTable.get_item\u001b[1;34m()\u001b[0m\n",
      "\u001b[1;31mKeyError\u001b[0m: 'better_predicted_by_anyburl_t0'",
      "\nThe above exception was the direct cause of the following exception:\n",
      "\u001b[1;31mKeyError\u001b[0m                                  Traceback (most recent call last)",
      "File \u001b[1;32m~\\anaconda3\\envs\\thesis\\lib\\site-packages\\pandas\\core\\frame.py:3799\u001b[0m, in \u001b[0;36mDataFrame._set_item_mgr\u001b[1;34m(self, key, value)\u001b[0m\n\u001b[0;32m   3798\u001b[0m \u001b[38;5;28;01mtry\u001b[39;00m:\n\u001b[1;32m-> 3799\u001b[0m     loc \u001b[38;5;241m=\u001b[39m \u001b[38;5;28;43mself\u001b[39;49m\u001b[38;5;241;43m.\u001b[39;49m\u001b[43m_info_axis\u001b[49m\u001b[38;5;241;43m.\u001b[39;49m\u001b[43mget_loc\u001b[49m\u001b[43m(\u001b[49m\u001b[43mkey\u001b[49m\u001b[43m)\u001b[49m\n\u001b[0;32m   3800\u001b[0m \u001b[38;5;28;01mexcept\u001b[39;00m \u001b[38;5;167;01mKeyError\u001b[39;00m:\n\u001b[0;32m   3801\u001b[0m     \u001b[38;5;66;03m# This item wasn't present, just insert at end\u001b[39;00m\n",
      "File \u001b[1;32m~\\anaconda3\\envs\\thesis\\lib\\site-packages\\pandas\\core\\indexes\\base.py:3623\u001b[0m, in \u001b[0;36mIndex.get_loc\u001b[1;34m(self, key, method, tolerance)\u001b[0m\n\u001b[0;32m   3622\u001b[0m \u001b[38;5;28;01mexcept\u001b[39;00m \u001b[38;5;167;01mKeyError\u001b[39;00m \u001b[38;5;28;01mas\u001b[39;00m err:\n\u001b[1;32m-> 3623\u001b[0m     \u001b[38;5;28;01mraise\u001b[39;00m \u001b[38;5;167;01mKeyError\u001b[39;00m(key) \u001b[38;5;28;01mfrom\u001b[39;00m \u001b[38;5;21;01merr\u001b[39;00m\n\u001b[0;32m   3624\u001b[0m \u001b[38;5;28;01mexcept\u001b[39;00m \u001b[38;5;167;01mTypeError\u001b[39;00m:\n\u001b[0;32m   3625\u001b[0m     \u001b[38;5;66;03m# If we have a listlike key, _check_indexing_error will raise\u001b[39;00m\n\u001b[0;32m   3626\u001b[0m     \u001b[38;5;66;03m#  InvalidIndexError. Otherwise we fall through and re-raise\u001b[39;00m\n\u001b[0;32m   3627\u001b[0m     \u001b[38;5;66;03m#  the TypeError.\u001b[39;00m\n",
      "\u001b[1;31mKeyError\u001b[0m: 'better_predicted_by_anyburl_t0'",
      "\nDuring handling of the above exception, another exception occurred:\n",
      "\u001b[1;31mValueError\u001b[0m                                Traceback (most recent call last)",
      "Input \u001b[1;32mIn [21]\u001b[0m, in \u001b[0;36m<cell line: 1>\u001b[1;34m()\u001b[0m\n\u001b[1;32m----> 1\u001b[0m \u001b[43mshow_all_graphs\u001b[49m\u001b[43m(\u001b[49m\u001b[43mdf\u001b[49m\u001b[43m,\u001b[49m\u001b[43m \u001b[49m\u001b[43mdataset_name\u001b[49m\u001b[43m,\u001b[49m\u001b[43m \u001b[49m\u001b[43mbp_threshold\u001b[49m\u001b[43m,\u001b[49m\u001b[43m \u001b[49m\u001b[43mrelation_class_threshold\u001b[49m\u001b[43m)\u001b[49m\n",
      "File \u001b[1;32m~\\AppData\\Local\\Temp\\ipykernel_11484\\2097292473.py:4\u001b[0m, in \u001b[0;36mshow_all_graphs\u001b[1;34m(df, dataset_name, bp_threshold, relation_class_threshold)\u001b[0m\n\u001b[0;32m      2\u001b[0m show_ranking_dist(df)\n\u001b[0;32m      3\u001b[0m show_ranking_dist_by_direction(df)\n\u001b[1;32m----> 4\u001b[0m \u001b[43mshow_performance_different_thresholds\u001b[49m\u001b[43m(\u001b[49m\u001b[43mdf\u001b[49m\u001b[43m)\u001b[49m\n\u001b[0;32m      5\u001b[0m show_relation_frequency(dataset_name)\n\u001b[0;32m      6\u001b[0m show_better_predicted_per_relation(df, bp_threshold)\n",
      "File \u001b[1;32m~\\AppData\\Local\\Temp\\ipykernel_11484\\1430731048.py:6\u001b[0m, in \u001b[0;36mshow_performance_different_thresholds\u001b[1;34m(df, rank_thresholds)\u001b[0m\n\u001b[0;32m      2\u001b[0m \u001b[38;5;124;03m\"\"\"\u001b[39;00m\n\u001b[0;32m      3\u001b[0m \u001b[38;5;124;03mexpects a df with 'rank_filtered_anyburl' and 'rank_filtered_kge'\u001b[39;00m\n\u001b[0;32m      4\u001b[0m \u001b[38;5;124;03m\"\"\"\u001b[39;00m    \n\u001b[0;32m      5\u001b[0m \u001b[38;5;28;01mfor\u001b[39;00m t \u001b[38;5;129;01min\u001b[39;00m rank_thresholds:\n\u001b[1;32m----> 6\u001b[0m     df \u001b[38;5;241m=\u001b[39m \u001b[43mget_better_predicted_by\u001b[49m\u001b[43m(\u001b[49m\u001b[43mdf\u001b[49m\u001b[43m,\u001b[49m\u001b[43m \u001b[49m\u001b[43mt\u001b[49m\u001b[43m)\u001b[49m\n\u001b[0;32m      8\u001b[0m X_axis \u001b[38;5;241m=\u001b[39m np\u001b[38;5;241m.\u001b[39marange(\u001b[38;5;241m6\u001b[39m)\n\u001b[0;32m      9\u001b[0m Y_anyburl \u001b[38;5;241m=\u001b[39m [(df[\u001b[38;5;124mf\u001b[39m\u001b[38;5;124m'\u001b[39m\u001b[38;5;124mbetter_predicted_by_anyburl_t\u001b[39m\u001b[38;5;132;01m{\u001b[39;00mt\u001b[38;5;132;01m}\u001b[39;00m\u001b[38;5;124m'\u001b[39m] \u001b[38;5;241m==\u001b[39m \u001b[38;5;241m1\u001b[39m)\u001b[38;5;241m.\u001b[39msum() \u001b[38;5;28;01mfor\u001b[39;00m t \u001b[38;5;129;01min\u001b[39;00m rank_thresholds]\n",
      "File \u001b[1;32m~\\AppData\\Local\\Temp\\ipykernel_11484\\4237973761.py:7\u001b[0m, in \u001b[0;36mget_better_predicted_by\u001b[1;34m(df, threshold)\u001b[0m\n\u001b[0;32m      5\u001b[0m \u001b[38;5;28;01mdef\u001b[39;00m \u001b[38;5;21mget_better_predicted_by\u001b[39m(df, threshold):\n\u001b[0;32m      6\u001b[0m     df[\u001b[38;5;124m'\u001b[39m\u001b[38;5;124mrank_difference\u001b[39m\u001b[38;5;124m'\u001b[39m] \u001b[38;5;241m=\u001b[39m df[\u001b[38;5;124m'\u001b[39m\u001b[38;5;124mrank_filtered_anyburl\u001b[39m\u001b[38;5;124m'\u001b[39m] \u001b[38;5;241m-\u001b[39m df[\u001b[38;5;124m'\u001b[39m\u001b[38;5;124mrank_filtered_kge\u001b[39m\u001b[38;5;124m'\u001b[39m]\n\u001b[1;32m----> 7\u001b[0m     df[\u001b[38;5;124mf\u001b[39m\u001b[38;5;124m'\u001b[39m\u001b[38;5;124mbetter_predicted_by_anyburl_t\u001b[39m\u001b[38;5;132;01m{\u001b[39;00mthreshold\u001b[38;5;132;01m}\u001b[39;00m\u001b[38;5;124m'\u001b[39m] \u001b[38;5;241m=\u001b[39m df\u001b[38;5;241m.\u001b[39mapply(\u001b[38;5;28;01mlambda\u001b[39;00m x: \u001b[38;5;241m1\u001b[39m \u001b[38;5;28;01mif\u001b[39;00m x[\u001b[38;5;124m'\u001b[39m\u001b[38;5;124mrank_difference\u001b[39m\u001b[38;5;124m'\u001b[39m] \u001b[38;5;241m<\u001b[39m (\u001b[38;5;241m-\u001b[39m\u001b[38;5;241m1\u001b[39m \u001b[38;5;241m*\u001b[39m threshold) \u001b[38;5;28;01melse\u001b[39;00m \u001b[38;5;241m-\u001b[39m\u001b[38;5;241m1\u001b[39m \u001b[38;5;28;01mif\u001b[39;00m x[\u001b[38;5;124m'\u001b[39m\u001b[38;5;124mrank_difference\u001b[39m\u001b[38;5;124m'\u001b[39m] \u001b[38;5;241m>\u001b[39m threshold \u001b[38;5;28;01melse\u001b[39;00m \u001b[38;5;241m0\u001b[39m, axis\u001b[38;5;241m=\u001b[39m\u001b[38;5;241m1\u001b[39m)\n\u001b[0;32m      9\u001b[0m     \u001b[38;5;28;01mreturn\u001b[39;00m df\u001b[38;5;241m.\u001b[39mdrop(columns\u001b[38;5;241m=\u001b[39m[\u001b[38;5;124m'\u001b[39m\u001b[38;5;124mrank_difference\u001b[39m\u001b[38;5;124m'\u001b[39m])\n",
      "File \u001b[1;32m~\\anaconda3\\envs\\thesis\\lib\\site-packages\\pandas\\core\\frame.py:3645\u001b[0m, in \u001b[0;36mDataFrame.__setitem__\u001b[1;34m(self, key, value)\u001b[0m\n\u001b[0;32m   3643\u001b[0m     \u001b[38;5;28mself\u001b[39m\u001b[38;5;241m.\u001b[39m_setitem_array(key, value)\n\u001b[0;32m   3644\u001b[0m \u001b[38;5;28;01melif\u001b[39;00m \u001b[38;5;28misinstance\u001b[39m(value, DataFrame):\n\u001b[1;32m-> 3645\u001b[0m     \u001b[38;5;28;43mself\u001b[39;49m\u001b[38;5;241;43m.\u001b[39;49m\u001b[43m_set_item_frame_value\u001b[49m\u001b[43m(\u001b[49m\u001b[43mkey\u001b[49m\u001b[43m,\u001b[49m\u001b[43m \u001b[49m\u001b[43mvalue\u001b[49m\u001b[43m)\u001b[49m\n\u001b[0;32m   3646\u001b[0m \u001b[38;5;28;01melif\u001b[39;00m (\n\u001b[0;32m   3647\u001b[0m     is_list_like(value)\n\u001b[0;32m   3648\u001b[0m     \u001b[38;5;129;01mand\u001b[39;00m \u001b[38;5;129;01mnot\u001b[39;00m \u001b[38;5;28mself\u001b[39m\u001b[38;5;241m.\u001b[39mcolumns\u001b[38;5;241m.\u001b[39mis_unique\n\u001b[0;32m   3649\u001b[0m     \u001b[38;5;129;01mand\u001b[39;00m \u001b[38;5;241m1\u001b[39m \u001b[38;5;241m<\u001b[39m \u001b[38;5;28mlen\u001b[39m(\u001b[38;5;28mself\u001b[39m\u001b[38;5;241m.\u001b[39mcolumns\u001b[38;5;241m.\u001b[39mget_indexer_for([key])) \u001b[38;5;241m==\u001b[39m \u001b[38;5;28mlen\u001b[39m(value)\n\u001b[0;32m   3650\u001b[0m ):\n\u001b[0;32m   3651\u001b[0m     \u001b[38;5;66;03m# Column to set is duplicated\u001b[39;00m\n\u001b[0;32m   3652\u001b[0m     \u001b[38;5;28mself\u001b[39m\u001b[38;5;241m.\u001b[39m_setitem_array([key], value)\n",
      "File \u001b[1;32m~\\anaconda3\\envs\\thesis\\lib\\site-packages\\pandas\\core\\frame.py:3788\u001b[0m, in \u001b[0;36mDataFrame._set_item_frame_value\u001b[1;34m(self, key, value)\u001b[0m\n\u001b[0;32m   3786\u001b[0m \u001b[38;5;66;03m# now align rows\u001b[39;00m\n\u001b[0;32m   3787\u001b[0m arraylike \u001b[38;5;241m=\u001b[39m _reindex_for_setitem(value, \u001b[38;5;28mself\u001b[39m\u001b[38;5;241m.\u001b[39mindex)\n\u001b[1;32m-> 3788\u001b[0m \u001b[38;5;28;43mself\u001b[39;49m\u001b[38;5;241;43m.\u001b[39;49m\u001b[43m_set_item_mgr\u001b[49m\u001b[43m(\u001b[49m\u001b[43mkey\u001b[49m\u001b[43m,\u001b[49m\u001b[43m \u001b[49m\u001b[43marraylike\u001b[49m\u001b[43m)\u001b[49m\n",
      "File \u001b[1;32m~\\anaconda3\\envs\\thesis\\lib\\site-packages\\pandas\\core\\frame.py:3802\u001b[0m, in \u001b[0;36mDataFrame._set_item_mgr\u001b[1;34m(self, key, value)\u001b[0m\n\u001b[0;32m   3799\u001b[0m     loc \u001b[38;5;241m=\u001b[39m \u001b[38;5;28mself\u001b[39m\u001b[38;5;241m.\u001b[39m_info_axis\u001b[38;5;241m.\u001b[39mget_loc(key)\n\u001b[0;32m   3800\u001b[0m \u001b[38;5;28;01mexcept\u001b[39;00m \u001b[38;5;167;01mKeyError\u001b[39;00m:\n\u001b[0;32m   3801\u001b[0m     \u001b[38;5;66;03m# This item wasn't present, just insert at end\u001b[39;00m\n\u001b[1;32m-> 3802\u001b[0m     \u001b[38;5;28;43mself\u001b[39;49m\u001b[38;5;241;43m.\u001b[39;49m\u001b[43m_mgr\u001b[49m\u001b[38;5;241;43m.\u001b[39;49m\u001b[43minsert\u001b[49m\u001b[43m(\u001b[49m\u001b[38;5;28;43mlen\u001b[39;49m\u001b[43m(\u001b[49m\u001b[38;5;28;43mself\u001b[39;49m\u001b[38;5;241;43m.\u001b[39;49m\u001b[43m_info_axis\u001b[49m\u001b[43m)\u001b[49m\u001b[43m,\u001b[49m\u001b[43m \u001b[49m\u001b[43mkey\u001b[49m\u001b[43m,\u001b[49m\u001b[43m \u001b[49m\u001b[43mvalue\u001b[49m\u001b[43m)\u001b[49m\n\u001b[0;32m   3803\u001b[0m \u001b[38;5;28;01melse\u001b[39;00m:\n\u001b[0;32m   3804\u001b[0m     \u001b[38;5;28mself\u001b[39m\u001b[38;5;241m.\u001b[39m_iset_item_mgr(loc, value)\n",
      "File \u001b[1;32m~\\anaconda3\\envs\\thesis\\lib\\site-packages\\pandas\\core\\internals\\managers.py:1235\u001b[0m, in \u001b[0;36mBlockManager.insert\u001b[1;34m(self, loc, item, value)\u001b[0m\n\u001b[0;32m   1233\u001b[0m     value \u001b[38;5;241m=\u001b[39m value\u001b[38;5;241m.\u001b[39mT\n\u001b[0;32m   1234\u001b[0m     \u001b[38;5;28;01mif\u001b[39;00m \u001b[38;5;28mlen\u001b[39m(value) \u001b[38;5;241m>\u001b[39m \u001b[38;5;241m1\u001b[39m:\n\u001b[1;32m-> 1235\u001b[0m         \u001b[38;5;28;01mraise\u001b[39;00m \u001b[38;5;167;01mValueError\u001b[39;00m(\n\u001b[0;32m   1236\u001b[0m             \u001b[38;5;124mf\u001b[39m\u001b[38;5;124m\"\u001b[39m\u001b[38;5;124mExpected a 1D array, got an array with shape \u001b[39m\u001b[38;5;132;01m{\u001b[39;00mvalue\u001b[38;5;241m.\u001b[39mT\u001b[38;5;241m.\u001b[39mshape\u001b[38;5;132;01m}\u001b[39;00m\u001b[38;5;124m\"\u001b[39m\n\u001b[0;32m   1237\u001b[0m         )\n\u001b[0;32m   1238\u001b[0m \u001b[38;5;28;01melse\u001b[39;00m:\n\u001b[0;32m   1239\u001b[0m     value \u001b[38;5;241m=\u001b[39m ensure_block_shape(value, ndim\u001b[38;5;241m=\u001b[39m\u001b[38;5;28mself\u001b[39m\u001b[38;5;241m.\u001b[39mndim)\n",
      "\u001b[1;31mValueError\u001b[0m: Expected a 1D array, got an array with shape (0, 7)"
     ]
    }
   ],
   "source": [
    "show_all_graphs(df, dataset_name, bp_threshold, relation_class_threshold)"
   ]
  },
  {
   "cell_type": "markdown",
   "id": "d0c7f4a6-1d9e-4ea1-ab69-89e0b6691472",
   "metadata": {},
   "source": [
    "## close PDF"
   ]
  },
  {
   "cell_type": "code",
   "execution_count": null,
   "id": "19315281-ed15-431c-b9e6-892e88fd40ac",
   "metadata": {},
   "outputs": [],
   "source": [
    "pdf.close()"
   ]
  },
  {
   "cell_type": "code",
   "execution_count": null,
   "id": "ec83cd77-b72e-4085-bbf0-c8a9e8ee0b03",
   "metadata": {},
   "outputs": [],
   "source": []
  }
 ],
 "metadata": {
  "kernelspec": {
   "display_name": "Python 3 (ipykernel)",
   "language": "python",
   "name": "python3"
  },
  "language_info": {
   "codemirror_mode": {
    "name": "ipython",
    "version": 3
   },
   "file_extension": ".py",
   "mimetype": "text/x-python",
   "name": "python",
   "nbconvert_exporter": "python",
   "pygments_lexer": "ipython3",
   "version": "3.8.12"
  }
 },
 "nbformat": 4,
 "nbformat_minor": 5
}
