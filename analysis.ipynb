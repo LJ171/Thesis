{
 "cells": [
  {
   "cell_type": "markdown",
   "id": "3da22ee9-7747-4c20-815b-5e515b7f75cc",
   "metadata": {
    "tags": []
   },
   "source": [
    "# Parameters"
   ]
  },
  {
   "cell_type": "code",
   "execution_count": 12,
   "id": "7117f8e6-4e41-4261-b5de-95210b109dc8",
   "metadata": {},
   "outputs": [],
   "source": [
    "dataset_name = 'codex-m'\n",
    "\n",
    "symbolic_name = 'AnyBURL'\n",
    "symbolic = 'anyburl'\n",
    "\n",
    "subsymbolic_name = 'ComplEx'\n",
    "subsymbolic = 'complex'\n",
    "\n",
    "bp_threshold = 5"
   ]
  },
  {
   "cell_type": "markdown",
   "id": "06212f72-6fd4-460e-94c3-54cf10f5ef6a",
   "metadata": {
    "tags": []
   },
   "source": [
    "# Imports"
   ]
  },
  {
   "cell_type": "code",
   "execution_count": 13,
   "id": "6559dbd0-bb72-40ad-8b32-db1c3b6889dd",
   "metadata": {},
   "outputs": [],
   "source": [
    "%run utils.ipynb\n",
    "%run graphs.ipynb\n",
    "%run format_predictions.ipynb\n",
    "\n",
    "from matplotlib.backends.backend_pdf import PdfPages\n",
    "import os\n",
    "import pandas as pd"
   ]
  },
  {
   "cell_type": "markdown",
   "id": "818ada7b-83dd-4452-9825-107c4b58a0ac",
   "metadata": {
    "tags": []
   },
   "source": [
    "# Load Data"
   ]
  },
  {
   "cell_type": "code",
   "execution_count": 14,
   "id": "009d09d0-935c-425e-8cf1-0093e92dce45",
   "metadata": {},
   "outputs": [
    {
     "data": {
      "text/html": [
       "<div>\n",
       "<style scoped>\n",
       "    .dataframe tbody tr th:only-of-type {\n",
       "        vertical-align: middle;\n",
       "    }\n",
       "\n",
       "    .dataframe tbody tr th {\n",
       "        vertical-align: top;\n",
       "    }\n",
       "\n",
       "    .dataframe thead th {\n",
       "        text-align: right;\n",
       "    }\n",
       "</style>\n",
       "<table border=\"1\" class=\"dataframe\">\n",
       "  <thead>\n",
       "    <tr style=\"text-align: right;\">\n",
       "      <th></th>\n",
       "      <th>h_id</th>\n",
       "      <th>r_id</th>\n",
       "      <th>t_id</th>\n",
       "      <th>predicted_head</th>\n",
       "      <th>rank_filtered_anyburl</th>\n",
       "      <th>h</th>\n",
       "      <th>r</th>\n",
       "      <th>t</th>\n",
       "      <th>rank_filtered_kge</th>\n",
       "      <th>rank_filtered_0</th>\n",
       "      <th>rank_filtered_1</th>\n",
       "      <th>rank_filtered_2</th>\n",
       "      <th>rank_filtered_3</th>\n",
       "      <th>rank_filtered_4</th>\n",
       "    </tr>\n",
       "  </thead>\n",
       "  <tbody>\n",
       "    <tr>\n",
       "      <th>0</th>\n",
       "      <td>0</td>\n",
       "      <td>10</td>\n",
       "      <td>2991</td>\n",
       "      <td>False</td>\n",
       "      <td>33.0</td>\n",
       "      <td>Q108946</td>\n",
       "      <td>P136</td>\n",
       "      <td>Q3072039</td>\n",
       "      <td>9</td>\n",
       "      <td>8</td>\n",
       "      <td>9</td>\n",
       "      <td>8</td>\n",
       "      <td>8</td>\n",
       "      <td>12</td>\n",
       "    </tr>\n",
       "    <tr>\n",
       "      <th>1</th>\n",
       "      <td>0</td>\n",
       "      <td>10</td>\n",
       "      <td>2991</td>\n",
       "      <td>True</td>\n",
       "      <td>61.0</td>\n",
       "      <td>Q108946</td>\n",
       "      <td>P136</td>\n",
       "      <td>Q3072039</td>\n",
       "      <td>15</td>\n",
       "      <td>9</td>\n",
       "      <td>14</td>\n",
       "      <td>28</td>\n",
       "      <td>6</td>\n",
       "      <td>19</td>\n",
       "    </tr>\n",
       "    <tr>\n",
       "      <th>2</th>\n",
       "      <td>2</td>\n",
       "      <td>1</td>\n",
       "      <td>559</td>\n",
       "      <td>False</td>\n",
       "      <td>24.0</td>\n",
       "      <td>Q1041</td>\n",
       "      <td>P463</td>\n",
       "      <td>Q3348506</td>\n",
       "      <td>2</td>\n",
       "      <td>3</td>\n",
       "      <td>1</td>\n",
       "      <td>2</td>\n",
       "      <td>1</td>\n",
       "      <td>1</td>\n",
       "    </tr>\n",
       "    <tr>\n",
       "      <th>3</th>\n",
       "      <td>2</td>\n",
       "      <td>1</td>\n",
       "      <td>559</td>\n",
       "      <td>True</td>\n",
       "      <td>33.0</td>\n",
       "      <td>Q1041</td>\n",
       "      <td>P463</td>\n",
       "      <td>Q3348506</td>\n",
       "      <td>4</td>\n",
       "      <td>3</td>\n",
       "      <td>5</td>\n",
       "      <td>5</td>\n",
       "      <td>4</td>\n",
       "      <td>4</td>\n",
       "    </tr>\n",
       "    <tr>\n",
       "      <th>4</th>\n",
       "      <td>2</td>\n",
       "      <td>7</td>\n",
       "      <td>910</td>\n",
       "      <td>False</td>\n",
       "      <td>1.0</td>\n",
       "      <td>Q1041</td>\n",
       "      <td>P530</td>\n",
       "      <td>Q1011</td>\n",
       "      <td>1</td>\n",
       "      <td>1</td>\n",
       "      <td>1</td>\n",
       "      <td>1</td>\n",
       "      <td>1</td>\n",
       "      <td>1</td>\n",
       "    </tr>\n",
       "    <tr>\n",
       "      <th>5</th>\n",
       "      <td>2</td>\n",
       "      <td>7</td>\n",
       "      <td>910</td>\n",
       "      <td>True</td>\n",
       "      <td>1.0</td>\n",
       "      <td>Q1041</td>\n",
       "      <td>P530</td>\n",
       "      <td>Q1011</td>\n",
       "      <td>1</td>\n",
       "      <td>1</td>\n",
       "      <td>1</td>\n",
       "      <td>1</td>\n",
       "      <td>1</td>\n",
       "      <td>1</td>\n",
       "    </tr>\n",
       "    <tr>\n",
       "      <th>6</th>\n",
       "      <td>15</td>\n",
       "      <td>1</td>\n",
       "      <td>250</td>\n",
       "      <td>False</td>\n",
       "      <td>12.0</td>\n",
       "      <td>Q739</td>\n",
       "      <td>P463</td>\n",
       "      <td>Q4230</td>\n",
       "      <td>2</td>\n",
       "      <td>3</td>\n",
       "      <td>1</td>\n",
       "      <td>2</td>\n",
       "      <td>2</td>\n",
       "      <td>1</td>\n",
       "    </tr>\n",
       "    <tr>\n",
       "      <th>7</th>\n",
       "      <td>15</td>\n",
       "      <td>1</td>\n",
       "      <td>250</td>\n",
       "      <td>True</td>\n",
       "      <td>3.0</td>\n",
       "      <td>Q739</td>\n",
       "      <td>P463</td>\n",
       "      <td>Q4230</td>\n",
       "      <td>1</td>\n",
       "      <td>1</td>\n",
       "      <td>1</td>\n",
       "      <td>1</td>\n",
       "      <td>1</td>\n",
       "      <td>1</td>\n",
       "    </tr>\n",
       "    <tr>\n",
       "      <th>8</th>\n",
       "      <td>15</td>\n",
       "      <td>7</td>\n",
       "      <td>1695</td>\n",
       "      <td>False</td>\n",
       "      <td>1.0</td>\n",
       "      <td>Q739</td>\n",
       "      <td>P530</td>\n",
       "      <td>Q29</td>\n",
       "      <td>2</td>\n",
       "      <td>2</td>\n",
       "      <td>4</td>\n",
       "      <td>1</td>\n",
       "      <td>1</td>\n",
       "      <td>2</td>\n",
       "    </tr>\n",
       "    <tr>\n",
       "      <th>9</th>\n",
       "      <td>15</td>\n",
       "      <td>7</td>\n",
       "      <td>1695</td>\n",
       "      <td>True</td>\n",
       "      <td>1.0</td>\n",
       "      <td>Q739</td>\n",
       "      <td>P530</td>\n",
       "      <td>Q29</td>\n",
       "      <td>3</td>\n",
       "      <td>1</td>\n",
       "      <td>2</td>\n",
       "      <td>1</td>\n",
       "      <td>1</td>\n",
       "      <td>9</td>\n",
       "    </tr>\n",
       "  </tbody>\n",
       "</table>\n",
       "</div>"
      ],
      "text/plain": [
       "   h_id  r_id  t_id  predicted_head  rank_filtered_anyburl        h     r  \\\n",
       "0     0    10  2991           False                   33.0  Q108946  P136   \n",
       "1     0    10  2991            True                   61.0  Q108946  P136   \n",
       "2     2     1   559           False                   24.0    Q1041  P463   \n",
       "3     2     1   559            True                   33.0    Q1041  P463   \n",
       "4     2     7   910           False                    1.0    Q1041  P530   \n",
       "5     2     7   910            True                    1.0    Q1041  P530   \n",
       "6    15     1   250           False                   12.0     Q739  P463   \n",
       "7    15     1   250            True                    3.0     Q739  P463   \n",
       "8    15     7  1695           False                    1.0     Q739  P530   \n",
       "9    15     7  1695            True                    1.0     Q739  P530   \n",
       "\n",
       "          t  rank_filtered_kge  rank_filtered_0  rank_filtered_1  \\\n",
       "0  Q3072039                  9                8                9   \n",
       "1  Q3072039                 15                9               14   \n",
       "2  Q3348506                  2                3                1   \n",
       "3  Q3348506                  4                3                5   \n",
       "4     Q1011                  1                1                1   \n",
       "5     Q1011                  1                1                1   \n",
       "6     Q4230                  2                3                1   \n",
       "7     Q4230                  1                1                1   \n",
       "8       Q29                  2                2                4   \n",
       "9       Q29                  3                1                2   \n",
       "\n",
       "   rank_filtered_2  rank_filtered_3  rank_filtered_4  \n",
       "0                8                8               12  \n",
       "1               28                6               19  \n",
       "2                2                1                1  \n",
       "3                5                4                4  \n",
       "4                1                1                1  \n",
       "5                1                1                1  \n",
       "6                2                2                1  \n",
       "7                1                1                1  \n",
       "8                1                1                2  \n",
       "9                1                1                9  "
      ]
     },
     "execution_count": 14,
     "metadata": {},
     "output_type": "execute_result"
    }
   ],
   "source": [
    "df = get_prediction_data(dataset_name, symbolic, subsymbolic)\n",
    "df.head(10)"
   ]
  },
  {
   "cell_type": "code",
   "execution_count": 15,
   "id": "446f1c48-b3c3-4135-a803-46c07bf62f14",
   "metadata": {},
   "outputs": [
    {
     "data": {
      "text/html": [
       "<div>\n",
       "<style scoped>\n",
       "    .dataframe tbody tr th:only-of-type {\n",
       "        vertical-align: middle;\n",
       "    }\n",
       "\n",
       "    .dataframe tbody tr th {\n",
       "        vertical-align: top;\n",
       "    }\n",
       "\n",
       "    .dataframe thead th {\n",
       "        text-align: right;\n",
       "    }\n",
       "</style>\n",
       "<table border=\"1\" class=\"dataframe\">\n",
       "  <thead>\n",
       "    <tr style=\"text-align: right;\">\n",
       "      <th></th>\n",
       "      <th>h_id</th>\n",
       "      <th>r_id</th>\n",
       "      <th>t_id</th>\n",
       "      <th>predicted_head</th>\n",
       "      <th>rank_filtered_anyburl</th>\n",
       "      <th>rank_filtered_kge</th>\n",
       "    </tr>\n",
       "  </thead>\n",
       "  <tbody>\n",
       "    <tr>\n",
       "      <th>0</th>\n",
       "      <td>0</td>\n",
       "      <td>10</td>\n",
       "      <td>2991</td>\n",
       "      <td>False</td>\n",
       "      <td>33.0</td>\n",
       "      <td>9</td>\n",
       "    </tr>\n",
       "    <tr>\n",
       "      <th>1</th>\n",
       "      <td>0</td>\n",
       "      <td>10</td>\n",
       "      <td>2991</td>\n",
       "      <td>True</td>\n",
       "      <td>61.0</td>\n",
       "      <td>15</td>\n",
       "    </tr>\n",
       "    <tr>\n",
       "      <th>2</th>\n",
       "      <td>2</td>\n",
       "      <td>1</td>\n",
       "      <td>559</td>\n",
       "      <td>False</td>\n",
       "      <td>24.0</td>\n",
       "      <td>2</td>\n",
       "    </tr>\n",
       "    <tr>\n",
       "      <th>3</th>\n",
       "      <td>2</td>\n",
       "      <td>1</td>\n",
       "      <td>559</td>\n",
       "      <td>True</td>\n",
       "      <td>33.0</td>\n",
       "      <td>4</td>\n",
       "    </tr>\n",
       "    <tr>\n",
       "      <th>4</th>\n",
       "      <td>2</td>\n",
       "      <td>7</td>\n",
       "      <td>910</td>\n",
       "      <td>False</td>\n",
       "      <td>1.0</td>\n",
       "      <td>1</td>\n",
       "    </tr>\n",
       "    <tr>\n",
       "      <th>5</th>\n",
       "      <td>2</td>\n",
       "      <td>7</td>\n",
       "      <td>910</td>\n",
       "      <td>True</td>\n",
       "      <td>1.0</td>\n",
       "      <td>1</td>\n",
       "    </tr>\n",
       "    <tr>\n",
       "      <th>6</th>\n",
       "      <td>15</td>\n",
       "      <td>1</td>\n",
       "      <td>250</td>\n",
       "      <td>False</td>\n",
       "      <td>12.0</td>\n",
       "      <td>2</td>\n",
       "    </tr>\n",
       "    <tr>\n",
       "      <th>7</th>\n",
       "      <td>15</td>\n",
       "      <td>1</td>\n",
       "      <td>250</td>\n",
       "      <td>True</td>\n",
       "      <td>3.0</td>\n",
       "      <td>1</td>\n",
       "    </tr>\n",
       "    <tr>\n",
       "      <th>8</th>\n",
       "      <td>15</td>\n",
       "      <td>7</td>\n",
       "      <td>1695</td>\n",
       "      <td>False</td>\n",
       "      <td>1.0</td>\n",
       "      <td>2</td>\n",
       "    </tr>\n",
       "    <tr>\n",
       "      <th>9</th>\n",
       "      <td>15</td>\n",
       "      <td>7</td>\n",
       "      <td>1695</td>\n",
       "      <td>True</td>\n",
       "      <td>1.0</td>\n",
       "      <td>3</td>\n",
       "    </tr>\n",
       "  </tbody>\n",
       "</table>\n",
       "</div>"
      ],
      "text/plain": [
       "   h_id  r_id  t_id  predicted_head  rank_filtered_anyburl  rank_filtered_kge\n",
       "0     0    10  2991           False                   33.0                  9\n",
       "1     0    10  2991            True                   61.0                 15\n",
       "2     2     1   559           False                   24.0                  2\n",
       "3     2     1   559            True                   33.0                  4\n",
       "4     2     7   910           False                    1.0                  1\n",
       "5     2     7   910            True                    1.0                  1\n",
       "6    15     1   250           False                   12.0                  2\n",
       "7    15     1   250            True                    3.0                  1\n",
       "8    15     7  1695           False                    1.0                  2\n",
       "9    15     7  1695            True                    1.0                  3"
      ]
     },
     "execution_count": 15,
     "metadata": {},
     "output_type": "execute_result"
    }
   ],
   "source": [
    "df = df[['h_id', 'r_id', 't_id', 'predicted_head', 'rank_filtered_anyburl', 'rank_filtered_kge']]\n",
    "df.head(10)"
   ]
  },
  {
   "cell_type": "markdown",
   "id": "60caca69-b6d0-4ca5-911b-60a3c34999cd",
   "metadata": {
    "tags": []
   },
   "source": [
    "## drop NAs (why are there NAs at all?)"
   ]
  },
  {
   "cell_type": "code",
   "execution_count": 16,
   "id": "958de3ac-876a-4fcb-83aa-d99e20bd4808",
   "metadata": {},
   "outputs": [
    {
     "data": {
      "text/plain": [
       "20622"
      ]
     },
     "execution_count": 16,
     "metadata": {},
     "output_type": "execute_result"
    }
   ],
   "source": [
    "len(df)"
   ]
  },
  {
   "cell_type": "code",
   "execution_count": 17,
   "id": "76b4c80e-dd30-425e-bda5-0ee802f53ac7",
   "metadata": {},
   "outputs": [
    {
     "data": {
      "text/plain": [
       "592"
      ]
     },
     "execution_count": 17,
     "metadata": {},
     "output_type": "execute_result"
    }
   ],
   "source": [
    "df['rank_filtered_anyburl'].isnull().sum()"
   ]
  },
  {
   "cell_type": "code",
   "execution_count": 18,
   "id": "1f2c5afc-2ae4-4e14-8f1d-6dc3bfd9c45a",
   "metadata": {},
   "outputs": [
    {
     "data": {
      "text/plain": [
       "0"
      ]
     },
     "execution_count": 18,
     "metadata": {},
     "output_type": "execute_result"
    }
   ],
   "source": [
    "df['rank_filtered_kge'].isnull().sum()"
   ]
  },
  {
   "cell_type": "code",
   "execution_count": 19,
   "id": "c36fcb13-041c-49be-9e63-a1ffe488205d",
   "metadata": {},
   "outputs": [],
   "source": [
    "df = df.dropna()"
   ]
  },
  {
   "cell_type": "code",
   "execution_count": 20,
   "id": "ae69fe61-2906-43f2-9156-a161e2a1bb92",
   "metadata": {},
   "outputs": [
    {
     "data": {
      "text/plain": [
       "20030"
      ]
     },
     "execution_count": 20,
     "metadata": {},
     "output_type": "execute_result"
    }
   ],
   "source": [
    "len(df)"
   ]
  },
  {
   "cell_type": "markdown",
   "id": "b5ce4186-6b4b-450b-9c5e-8b8a335a5654",
   "metadata": {
    "tags": []
   },
   "source": [
    "# Analysis"
   ]
  },
  {
   "cell_type": "markdown",
   "id": "35193765-a320-4613-a9b5-bcc5a972f087",
   "metadata": {},
   "source": [
    "## create PDF"
   ]
  },
  {
   "cell_type": "code",
   "execution_count": 21,
   "id": "68563a1f-1574-4fee-81fb-d3807c7568a5",
   "metadata": {},
   "outputs": [],
   "source": [
    "pdf = PdfPages(f'analysis_for_{get_formatted_data_name(dataset_name, symbolic, subsymbolic)[0:-4]}.pdf')"
   ]
  },
  {
   "cell_type": "markdown",
   "id": "09c87c3f-2fc5-413c-9fe0-2186d6929465",
   "metadata": {},
   "source": [
    "## show graphs"
   ]
  },
  {
   "cell_type": "code",
   "execution_count": 34,
   "id": "6e626db1-5640-45f6-b16a-9b2963d3d9e4",
   "metadata": {},
   "outputs": [
    {
     "name": "stdout",
     "output_type": "stream",
     "text": [
      "Loading configuration of dataset codex-m from d:\\files\\git\\kge\\data\\codex-m ...\n",
      "Loaded 51 keys from map relation_ids\n",
      "Loaded 51 keys from map relation_strings\n",
      "  91210 distinct sp pairs in train\n",
      "  9926 distinct po pairs in train\n"
     ]
    },
    {
     "data": {
      "image/png": "[encoded data removed]",
      "text/plain": [
       "<Figure size 600x400 with 1 Axes>"
      ]
     },
     "metadata": {
      "needs_background": "light"
     },
     "output_type": "display_data"
    }
   ],
   "source": [
    "%run graphs.ipynb\n",
    "show_better_predicted_triples_per_relation_class_table(df, dataset_name, bp_threshold)"
   ]
  },
  {
   "cell_type": "code",
   "execution_count": null,
   "id": "5ad131a5-a380-4d6b-8b04-dec02dac88b8",
   "metadata": {},
   "outputs": [],
   "source": [
    "show_all_graphs(df, dataset_name, bp_threshold)"
   ]
  },
  {
   "cell_type": "markdown",
   "id": "d0c7f4a6-1d9e-4ea1-ab69-89e0b6691472",
   "metadata": {},
   "source": [
    "## close PDF"
   ]
  },
  {
   "cell_type": "code",
   "execution_count": null,
   "id": "19315281-ed15-431c-b9e6-892e88fd40ac",
   "metadata": {},
   "outputs": [],
   "source": [
    "pdf.close()"
   ]
  },
  {
   "cell_type": "code",
   "execution_count": null,
   "id": "ec83cd77-b72e-4085-bbf0-c8a9e8ee0b03",
   "metadata": {},
   "outputs": [],
   "source": []
  }
 ],
 "metadata": {
  "kernelspec": {
   "display_name": "Python 3 (ipykernel)",
   "language": "python",
   "name": "python3"
  },
  "language_info": {
   "codemirror_mode": {
    "name": "ipython",
    "version": 3
   },
   "file_extension": ".py",
   "mimetype": "text/x-python",
   "name": "python",
   "nbconvert_exporter": "python",
   "pygments_lexer": "ipython3",
   "version": "3.8.12"
  }
 },
 "nbformat": 4,
 "nbformat_minor": 5
}
